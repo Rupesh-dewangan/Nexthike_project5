{
 "cells": [
  {
   "cell_type": "markdown",
   "metadata": {
    "id": "a6CgiBi5M7br"
   },
   "source": []
  },
  {
   "cell_type": "code",
   "execution_count": 23,
   "metadata": {
    "executionInfo": {
     "elapsed": 944,
     "status": "ok",
     "timestamp": 1725965098047,
     "user": {
      "displayName": "foody kids",
      "userId": "08117609502954182600"
     },
     "user_tz": -330
    },
    "id": "8qSVSDMAM9B6"
   },
   "outputs": [],
   "source": [
    "#import drive from google\n",
    "#from google.colab import drive"
   ]
  },
  {
   "cell_type": "code",
   "execution_count": 24,
   "metadata": {
    "colab": {
     "base_uri": "https://localhost:8080/"
    },
    "executionInfo": {
     "elapsed": 29712,
     "status": "ok",
     "timestamp": 1725965129018,
     "user": {
      "displayName": "foody kids",
      "userId": "08117609502954182600"
     },
     "user_tz": -330
    },
    "id": "Mpif0MYiM_R6",
    "outputId": "20fa986b-8015-4dca-f226-da959700314e"
   },
   "outputs": [],
   "source": [
    "# mount the drive\n",
    "#drive.mount(\"/content/drive\")"
   ]
  },
  {
   "cell_type": "code",
   "execution_count": 25,
   "metadata": {
    "executionInfo": {
     "elapsed": 3461,
     "status": "ok",
     "timestamp": 1725965132473,
     "user": {
      "displayName": "foody kids",
      "userId": "08117609502954182600"
     },
     "user_tz": -330
    },
    "id": "o_j7mKY4NCAb"
   },
   "outputs": [],
   "source": [
    "#import the liabaries\n",
    "import seaborn as sns\n",
    "import matplotlib.pyplot as plt\n",
    "import pandas as pd\n",
    "import numpy as np\n",
    "import sklearn\n",
    "import warnings\n",
    "warnings.filterwarnings(\"ignore\")\n",
    "%matplotlib inline"
   ]
  },
  {
   "cell_type": "code",
   "execution_count": 26,
   "metadata": {
    "colab": {
     "base_uri": "https://localhost:8080/",
     "height": 256
    },
    "executionInfo": {
     "elapsed": 37,
     "status": "ok",
     "timestamp": 1725965132475,
     "user": {
      "displayName": "foody kids",
      "userId": "08117609502954182600"
     },
     "user_tz": -330
    },
    "id": "OxpCw12yNEF7",
    "outputId": "a0e3910e-d75a-4f1c-cd6e-0e7684f8055b"
   },
   "outputs": [
    {
     "data": {
      "text/html": [
       "<div>\n",
       "<style scoped>\n",
       "    .dataframe tbody tr th:only-of-type {\n",
       "        vertical-align: middle;\n",
       "    }\n",
       "\n",
       "    .dataframe tbody tr th {\n",
       "        vertical-align: top;\n",
       "    }\n",
       "\n",
       "    .dataframe thead th {\n",
       "        text-align: right;\n",
       "    }\n",
       "</style>\n",
       "<table border=\"1\" class=\"dataframe\">\n",
       "  <thead>\n",
       "    <tr style=\"text-align: right;\">\n",
       "      <th></th>\n",
       "      <th>BearerId</th>\n",
       "      <th>MSISDNNumber</th>\n",
       "      <th>Duration_Seconds</th>\n",
       "      <th>AvgRTT_DL</th>\n",
       "      <th>AvgRTT_UL</th>\n",
       "      <th>AvgBearerTP_DL</th>\n",
       "      <th>AvgBearerTP_UL</th>\n",
       "      <th>TCPDLRetransVol_Bytes</th>\n",
       "      <th>TCPULRetransVol_Bytes</th>\n",
       "      <th>GamingDL_Bytes</th>\n",
       "      <th>YoutubeUL_Bytes</th>\n",
       "      <th>YoutubeDL_Bytes</th>\n",
       "      <th>NetflixUL_Bytes</th>\n",
       "      <th>Total_Data</th>\n",
       "      <th>Total_DL</th>\n",
       "      <th>Total_UL</th>\n",
       "      <th>NetflixDL_Bytes</th>\n",
       "      <th>OtherUL_Bytes</th>\n",
       "      <th>OtherDL_Bytes</th>\n",
       "      <th>GamingUL_Bytes</th>\n",
       "    </tr>\n",
       "  </thead>\n",
       "  <tbody>\n",
       "    <tr>\n",
       "      <th>0</th>\n",
       "      <td>1.311450e+19</td>\n",
       "      <td>3.368542e+10</td>\n",
       "      <td>243.504</td>\n",
       "      <td>45.0</td>\n",
       "      <td>5.0</td>\n",
       "      <td>28.0</td>\n",
       "      <td>41.0</td>\n",
       "      <td>568730.0</td>\n",
       "      <td>20949.5</td>\n",
       "      <td>519620584.0</td>\n",
       "      <td>14644405.0</td>\n",
       "      <td>17400892.0</td>\n",
       "      <td>20806551.0</td>\n",
       "      <td>599743023.0</td>\n",
       "      <td>556406594.0</td>\n",
       "      <td>43336429.0</td>\n",
       "      <td>7682779.0</td>\n",
       "      <td>3820483.0</td>\n",
       "      <td>318297673.0</td>\n",
       "      <td>2710989.0</td>\n",
       "    </tr>\n",
       "    <tr>\n",
       "      <th>1</th>\n",
       "      <td>1.311450e+19</td>\n",
       "      <td>3.366132e+10</td>\n",
       "      <td>236.570</td>\n",
       "      <td>46.0</td>\n",
       "      <td>7.0</td>\n",
       "      <td>46.0</td>\n",
       "      <td>46.0</td>\n",
       "      <td>568730.0</td>\n",
       "      <td>20949.5</td>\n",
       "      <td>715350506.0</td>\n",
       "      <td>16964908.0</td>\n",
       "      <td>19431593.0</td>\n",
       "      <td>9907089.0</td>\n",
       "      <td>798245704.0</td>\n",
       "      <td>757526492.0</td>\n",
       "      <td>40719212.0</td>\n",
       "      <td>11758420.0</td>\n",
       "      <td>1716480.0</td>\n",
       "      <td>290582586.0</td>\n",
       "      <td>10250922.0</td>\n",
       "    </tr>\n",
       "    <tr>\n",
       "      <th>2</th>\n",
       "      <td>1.311450e+19</td>\n",
       "      <td>3.361513e+10</td>\n",
       "      <td>231.780</td>\n",
       "      <td>45.0</td>\n",
       "      <td>5.0</td>\n",
       "      <td>23.0</td>\n",
       "      <td>51.0</td>\n",
       "      <td>568730.0</td>\n",
       "      <td>20949.5</td>\n",
       "      <td>124180544.0</td>\n",
       "      <td>13154981.0</td>\n",
       "      <td>7438887.0</td>\n",
       "      <td>9887128.0</td>\n",
       "      <td>192095344.0</td>\n",
       "      <td>139043208.0</td>\n",
       "      <td>53052136.0</td>\n",
       "      <td>753238.0</td>\n",
       "      <td>14932623.0</td>\n",
       "      <td>350039548.0</td>\n",
       "      <td>14967821.0</td>\n",
       "    </tr>\n",
       "    <tr>\n",
       "      <th>3</th>\n",
       "      <td>1.311450e+19</td>\n",
       "      <td>3.366495e+10</td>\n",
       "      <td>230.839</td>\n",
       "      <td>39.0</td>\n",
       "      <td>2.0</td>\n",
       "      <td>22.0</td>\n",
       "      <td>46.0</td>\n",
       "      <td>568730.0</td>\n",
       "      <td>20949.5</td>\n",
       "      <td>293492651.0</td>\n",
       "      <td>14454366.0</td>\n",
       "      <td>3334865.0</td>\n",
       "      <td>1530332.0</td>\n",
       "      <td>359872820.0</td>\n",
       "      <td>329159454.0</td>\n",
       "      <td>30713366.0</td>\n",
       "      <td>17917894.0</td>\n",
       "      <td>11684759.0</td>\n",
       "      <td>495376623.0</td>\n",
       "      <td>1362536.0</td>\n",
       "    </tr>\n",
       "    <tr>\n",
       "      <th>4</th>\n",
       "      <td>7.349880e+18</td>\n",
       "      <td>3.366403e+10</td>\n",
       "      <td>238.915</td>\n",
       "      <td>38.0</td>\n",
       "      <td>1.0</td>\n",
       "      <td>49.0</td>\n",
       "      <td>47.0</td>\n",
       "      <td>568730.0</td>\n",
       "      <td>20949.5</td>\n",
       "      <td>516508263.0</td>\n",
       "      <td>21457678.0</td>\n",
       "      <td>23039020.0</td>\n",
       "      <td>13958301.0</td>\n",
       "      <td>604428354.0</td>\n",
       "      <td>546747900.0</td>\n",
       "      <td>57680454.0</td>\n",
       "      <td>1114842.0</td>\n",
       "      <td>9207067.0</td>\n",
       "      <td>624397048.0</td>\n",
       "      <td>8432981.0</td>\n",
       "    </tr>\n",
       "  </tbody>\n",
       "</table>\n",
       "</div>"
      ],
      "text/plain": [
       "       BearerId  MSISDNNumber  Duration_Seconds  AvgRTT_DL  AvgRTT_UL  \\\n",
       "0  1.311450e+19  3.368542e+10           243.504       45.0        5.0   \n",
       "1  1.311450e+19  3.366132e+10           236.570       46.0        7.0   \n",
       "2  1.311450e+19  3.361513e+10           231.780       45.0        5.0   \n",
       "3  1.311450e+19  3.366495e+10           230.839       39.0        2.0   \n",
       "4  7.349880e+18  3.366403e+10           238.915       38.0        1.0   \n",
       "\n",
       "   AvgBearerTP_DL  AvgBearerTP_UL  TCPDLRetransVol_Bytes  \\\n",
       "0            28.0            41.0               568730.0   \n",
       "1            46.0            46.0               568730.0   \n",
       "2            23.0            51.0               568730.0   \n",
       "3            22.0            46.0               568730.0   \n",
       "4            49.0            47.0               568730.0   \n",
       "\n",
       "   TCPULRetransVol_Bytes  GamingDL_Bytes  YoutubeUL_Bytes  YoutubeDL_Bytes  \\\n",
       "0                20949.5     519620584.0       14644405.0       17400892.0   \n",
       "1                20949.5     715350506.0       16964908.0       19431593.0   \n",
       "2                20949.5     124180544.0       13154981.0        7438887.0   \n",
       "3                20949.5     293492651.0       14454366.0        3334865.0   \n",
       "4                20949.5     516508263.0       21457678.0       23039020.0   \n",
       "\n",
       "   NetflixUL_Bytes   Total_Data     Total_DL    Total_UL  NetflixDL_Bytes  \\\n",
       "0       20806551.0  599743023.0  556406594.0  43336429.0        7682779.0   \n",
       "1        9907089.0  798245704.0  757526492.0  40719212.0       11758420.0   \n",
       "2        9887128.0  192095344.0  139043208.0  53052136.0         753238.0   \n",
       "3        1530332.0  359872820.0  329159454.0  30713366.0       17917894.0   \n",
       "4       13958301.0  604428354.0  546747900.0  57680454.0        1114842.0   \n",
       "\n",
       "   OtherUL_Bytes  OtherDL_Bytes  GamingUL_Bytes  \n",
       "0      3820483.0    318297673.0       2710989.0  \n",
       "1      1716480.0    290582586.0      10250922.0  \n",
       "2     14932623.0    350039548.0      14967821.0  \n",
       "3     11684759.0    495376623.0       1362536.0  \n",
       "4      9207067.0    624397048.0       8432981.0  "
      ]
     },
     "execution_count": 26,
     "metadata": {},
     "output_type": "execute_result"
    }
   ],
   "source": [
    " #read the data from google drive\n",
    "df =pd.read_csv(\"cleanedtelecomunication_df.csv\")\n",
    "df.head()"
   ]
  },
  {
   "cell_type": "code",
   "execution_count": 27,
   "metadata": {
    "colab": {
     "base_uri": "https://localhost:8080/"
    },
    "executionInfo": {
     "elapsed": 31,
     "status": "ok",
     "timestamp": 1725965132476,
     "user": {
      "displayName": "foody kids",
      "userId": "08117609502954182600"
     },
     "user_tz": -330
    },
    "id": "U9UocijAUHaq",
    "outputId": "7b752e88-2214-4ba9-86c7-61e84a46c453"
   },
   "outputs": [
    {
     "name": "stdout",
     "output_type": "stream",
     "text": [
      "       MSISDNNumber  session_frequency\n",
      "0      3.360100e+10                  1\n",
      "1      3.360100e+10                  1\n",
      "2      3.360100e+10                  1\n",
      "3      3.360101e+10                  1\n",
      "4      3.360101e+10                  1\n",
      "...             ...                ...\n",
      "56669  3.378996e+10                  1\n",
      "56670  3.378996e+10                  1\n",
      "56671  3.378997e+10                  1\n",
      "56672  3.378998e+10                  1\n",
      "56673  3.379000e+10                  1\n",
      "\n",
      "[56674 rows x 2 columns]\n"
     ]
    }
   ],
   "source": [
    "# Calculate Sessions Frequency by grouping by 'MSISDNNumber' and counting 'BearerId'\n",
    "sessions_frequency = df.groupby('MSISDNNumber')['BearerId'].count().reset_index()\n",
    "\n",
    "# Rename the column for clarity\n",
    "sessions_frequency.columns = ['MSISDNNumber', 'session_frequency']\n",
    "\n",
    "# Display the result\n",
    "print(sessions_frequency)"
   ]
  },
  {
   "cell_type": "code",
   "execution_count": 28,
   "metadata": {
    "executionInfo": {
     "elapsed": 25,
     "status": "ok",
     "timestamp": 1725965132477,
     "user": {
      "displayName": "foody kids",
      "userId": "08117609502954182600"
     },
     "user_tz": -330
    },
    "id": "QiGZZIQjVMXS"
   },
   "outputs": [],
   "source": [
    "# Concatenate DataFrames\n",
    "df = pd.concat([df, sessions_frequency],axis=1)"
   ]
  },
  {
   "cell_type": "code",
   "execution_count": 29,
   "metadata": {
    "colab": {
     "base_uri": "https://localhost:8080/",
     "height": 444
    },
    "executionInfo": {
     "elapsed": 24,
     "status": "ok",
     "timestamp": 1725965132477,
     "user": {
      "displayName": "foody kids",
      "userId": "08117609502954182600"
     },
     "user_tz": -330
    },
    "id": "bHNA10ZbWiYi",
    "outputId": "764e1a7b-daaa-4ff8-fef4-6bb7ab6cdb11"
   },
   "outputs": [
    {
     "data": {
      "text/html": [
       "<div>\n",
       "<style scoped>\n",
       "    .dataframe tbody tr th:only-of-type {\n",
       "        vertical-align: middle;\n",
       "    }\n",
       "\n",
       "    .dataframe tbody tr th {\n",
       "        vertical-align: top;\n",
       "    }\n",
       "\n",
       "    .dataframe thead th {\n",
       "        text-align: right;\n",
       "    }\n",
       "</style>\n",
       "<table border=\"1\" class=\"dataframe\">\n",
       "  <thead>\n",
       "    <tr style=\"text-align: right;\">\n",
       "      <th></th>\n",
       "      <th>BearerId</th>\n",
       "      <th>MSISDNNumber</th>\n",
       "      <th>Duration_Seconds</th>\n",
       "      <th>AvgRTT_DL</th>\n",
       "      <th>AvgRTT_UL</th>\n",
       "      <th>AvgBearerTP_DL</th>\n",
       "      <th>AvgBearerTP_UL</th>\n",
       "      <th>TCPDLRetransVol_Bytes</th>\n",
       "      <th>TCPULRetransVol_Bytes</th>\n",
       "      <th>GamingDL_Bytes</th>\n",
       "      <th>...</th>\n",
       "      <th>NetflixUL_Bytes</th>\n",
       "      <th>Total_Data</th>\n",
       "      <th>Total_DL</th>\n",
       "      <th>Total_UL</th>\n",
       "      <th>NetflixDL_Bytes</th>\n",
       "      <th>OtherUL_Bytes</th>\n",
       "      <th>OtherDL_Bytes</th>\n",
       "      <th>GamingUL_Bytes</th>\n",
       "      <th>MSISDNNumber</th>\n",
       "      <th>session_frequency</th>\n",
       "    </tr>\n",
       "  </thead>\n",
       "  <tbody>\n",
       "    <tr>\n",
       "      <th>0</th>\n",
       "      <td>1.311450e+19</td>\n",
       "      <td>3.368542e+10</td>\n",
       "      <td>243.504</td>\n",
       "      <td>45.0</td>\n",
       "      <td>5.0</td>\n",
       "      <td>28.0</td>\n",
       "      <td>41.0</td>\n",
       "      <td>568730.0</td>\n",
       "      <td>20949.5</td>\n",
       "      <td>519620584.0</td>\n",
       "      <td>...</td>\n",
       "      <td>20806551.00</td>\n",
       "      <td>599743023.0</td>\n",
       "      <td>556406594.0</td>\n",
       "      <td>43336429.0</td>\n",
       "      <td>7682779.00</td>\n",
       "      <td>3.820483e+06</td>\n",
       "      <td>318297673.0</td>\n",
       "      <td>2.710989e+06</td>\n",
       "      <td>3.360100e+10</td>\n",
       "      <td>1.0</td>\n",
       "    </tr>\n",
       "    <tr>\n",
       "      <th>1</th>\n",
       "      <td>1.311450e+19</td>\n",
       "      <td>3.366132e+10</td>\n",
       "      <td>236.570</td>\n",
       "      <td>46.0</td>\n",
       "      <td>7.0</td>\n",
       "      <td>46.0</td>\n",
       "      <td>46.0</td>\n",
       "      <td>568730.0</td>\n",
       "      <td>20949.5</td>\n",
       "      <td>715350506.0</td>\n",
       "      <td>...</td>\n",
       "      <td>9907089.00</td>\n",
       "      <td>798245704.0</td>\n",
       "      <td>757526492.0</td>\n",
       "      <td>40719212.0</td>\n",
       "      <td>11758420.00</td>\n",
       "      <td>1.716480e+06</td>\n",
       "      <td>290582586.0</td>\n",
       "      <td>1.025092e+07</td>\n",
       "      <td>3.360100e+10</td>\n",
       "      <td>1.0</td>\n",
       "    </tr>\n",
       "    <tr>\n",
       "      <th>2</th>\n",
       "      <td>1.311450e+19</td>\n",
       "      <td>3.361513e+10</td>\n",
       "      <td>231.780</td>\n",
       "      <td>45.0</td>\n",
       "      <td>5.0</td>\n",
       "      <td>23.0</td>\n",
       "      <td>51.0</td>\n",
       "      <td>568730.0</td>\n",
       "      <td>20949.5</td>\n",
       "      <td>124180544.0</td>\n",
       "      <td>...</td>\n",
       "      <td>9887128.00</td>\n",
       "      <td>192095344.0</td>\n",
       "      <td>139043208.0</td>\n",
       "      <td>53052136.0</td>\n",
       "      <td>753238.00</td>\n",
       "      <td>1.493262e+07</td>\n",
       "      <td>350039548.0</td>\n",
       "      <td>1.496782e+07</td>\n",
       "      <td>3.360100e+10</td>\n",
       "      <td>1.0</td>\n",
       "    </tr>\n",
       "    <tr>\n",
       "      <th>3</th>\n",
       "      <td>1.311450e+19</td>\n",
       "      <td>3.366495e+10</td>\n",
       "      <td>230.839</td>\n",
       "      <td>39.0</td>\n",
       "      <td>2.0</td>\n",
       "      <td>22.0</td>\n",
       "      <td>46.0</td>\n",
       "      <td>568730.0</td>\n",
       "      <td>20949.5</td>\n",
       "      <td>293492651.0</td>\n",
       "      <td>...</td>\n",
       "      <td>1530332.00</td>\n",
       "      <td>359872820.0</td>\n",
       "      <td>329159454.0</td>\n",
       "      <td>30713366.0</td>\n",
       "      <td>17917894.00</td>\n",
       "      <td>1.168476e+07</td>\n",
       "      <td>495376623.0</td>\n",
       "      <td>1.362536e+06</td>\n",
       "      <td>3.360101e+10</td>\n",
       "      <td>1.0</td>\n",
       "    </tr>\n",
       "    <tr>\n",
       "      <th>4</th>\n",
       "      <td>7.349880e+18</td>\n",
       "      <td>3.366403e+10</td>\n",
       "      <td>238.915</td>\n",
       "      <td>38.0</td>\n",
       "      <td>1.0</td>\n",
       "      <td>49.0</td>\n",
       "      <td>47.0</td>\n",
       "      <td>568730.0</td>\n",
       "      <td>20949.5</td>\n",
       "      <td>516508263.0</td>\n",
       "      <td>...</td>\n",
       "      <td>13958301.00</td>\n",
       "      <td>604428354.0</td>\n",
       "      <td>546747900.0</td>\n",
       "      <td>57680454.0</td>\n",
       "      <td>1114842.00</td>\n",
       "      <td>9.207067e+06</td>\n",
       "      <td>624397048.0</td>\n",
       "      <td>8.432981e+06</td>\n",
       "      <td>3.360101e+10</td>\n",
       "      <td>1.0</td>\n",
       "    </tr>\n",
       "    <tr>\n",
       "      <th>...</th>\n",
       "      <td>...</td>\n",
       "      <td>...</td>\n",
       "      <td>...</td>\n",
       "      <td>...</td>\n",
       "      <td>...</td>\n",
       "      <td>...</td>\n",
       "      <td>...</td>\n",
       "      <td>...</td>\n",
       "      <td>...</td>\n",
       "      <td>...</td>\n",
       "      <td>...</td>\n",
       "      <td>...</td>\n",
       "      <td>...</td>\n",
       "      <td>...</td>\n",
       "      <td>...</td>\n",
       "      <td>...</td>\n",
       "      <td>...</td>\n",
       "      <td>...</td>\n",
       "      <td>...</td>\n",
       "      <td>...</td>\n",
       "      <td>...</td>\n",
       "    </tr>\n",
       "    <tr>\n",
       "      <th>65566</th>\n",
       "      <td>7.277830e+18</td>\n",
       "      <td>3.365069e+10</td>\n",
       "      <td>81.230</td>\n",
       "      <td>32.0</td>\n",
       "      <td>0.0</td>\n",
       "      <td>52.0</td>\n",
       "      <td>65.0</td>\n",
       "      <td>568730.0</td>\n",
       "      <td>20949.5</td>\n",
       "      <td>526609673.0</td>\n",
       "      <td>...</td>\n",
       "      <td>19678161.00</td>\n",
       "      <td>631804110.0</td>\n",
       "      <td>574175259.0</td>\n",
       "      <td>57628851.0</td>\n",
       "      <td>17883703.00</td>\n",
       "      <td>1.348742e+07</td>\n",
       "      <td>3264510.0</td>\n",
       "      <td>9.197207e+06</td>\n",
       "      <td>NaN</td>\n",
       "      <td>NaN</td>\n",
       "    </tr>\n",
       "    <tr>\n",
       "      <th>65567</th>\n",
       "      <td>7.349880e+18</td>\n",
       "      <td>3.366345e+10</td>\n",
       "      <td>97.970</td>\n",
       "      <td>27.0</td>\n",
       "      <td>2.0</td>\n",
       "      <td>23.0</td>\n",
       "      <td>54.0</td>\n",
       "      <td>568730.0</td>\n",
       "      <td>20949.5</td>\n",
       "      <td>626893062.0</td>\n",
       "      <td>...</td>\n",
       "      <td>21293148.00</td>\n",
       "      <td>705783925.0</td>\n",
       "      <td>666648844.0</td>\n",
       "      <td>39135081.0</td>\n",
       "      <td>19350146.00</td>\n",
       "      <td>2.457758e+06</td>\n",
       "      <td>712180387.0</td>\n",
       "      <td>4.735033e+06</td>\n",
       "      <td>NaN</td>\n",
       "      <td>NaN</td>\n",
       "    </tr>\n",
       "    <tr>\n",
       "      <th>65568</th>\n",
       "      <td>1.311450e+19</td>\n",
       "      <td>3.362189e+10</td>\n",
       "      <td>98.249</td>\n",
       "      <td>43.0</td>\n",
       "      <td>6.0</td>\n",
       "      <td>43.0</td>\n",
       "      <td>47.0</td>\n",
       "      <td>568730.0</td>\n",
       "      <td>20949.5</td>\n",
       "      <td>553539484.0</td>\n",
       "      <td>...</td>\n",
       "      <td>5065760.00</td>\n",
       "      <td>627698629.0</td>\n",
       "      <td>592786405.0</td>\n",
       "      <td>34912224.0</td>\n",
       "      <td>9963942.00</td>\n",
       "      <td>1.131473e+07</td>\n",
       "      <td>121100856.0</td>\n",
       "      <td>1.339432e+07</td>\n",
       "      <td>NaN</td>\n",
       "      <td>NaN</td>\n",
       "    </tr>\n",
       "    <tr>\n",
       "      <th>65569</th>\n",
       "      <td>1.311450e+19</td>\n",
       "      <td>3.361962e+10</td>\n",
       "      <td>97.910</td>\n",
       "      <td>37.0</td>\n",
       "      <td>5.0</td>\n",
       "      <td>34.0</td>\n",
       "      <td>37.0</td>\n",
       "      <td>568730.0</td>\n",
       "      <td>20949.5</td>\n",
       "      <td>352536971.0</td>\n",
       "      <td>...</td>\n",
       "      <td>13172589.00</td>\n",
       "      <td>401522016.0</td>\n",
       "      <td>371895920.0</td>\n",
       "      <td>29626096.0</td>\n",
       "      <td>3322253.00</td>\n",
       "      <td>1.406930e+06</td>\n",
       "      <td>814713113.0</td>\n",
       "      <td>2.529475e+06</td>\n",
       "      <td>NaN</td>\n",
       "      <td>NaN</td>\n",
       "    </tr>\n",
       "    <tr>\n",
       "      <th>65570</th>\n",
       "      <td>1.311450e+19</td>\n",
       "      <td>3.361962e+10</td>\n",
       "      <td>86.399</td>\n",
       "      <td>45.0</td>\n",
       "      <td>5.0</td>\n",
       "      <td>63.0</td>\n",
       "      <td>63.0</td>\n",
       "      <td>568730.0</td>\n",
       "      <td>20949.5</td>\n",
       "      <td>422044702.6</td>\n",
       "      <td>...</td>\n",
       "      <td>11001754.82</td>\n",
       "      <td>496984389.5</td>\n",
       "      <td>455841077.5</td>\n",
       "      <td>41143312.0</td>\n",
       "      <td>11626851.72</td>\n",
       "      <td>8.264799e+06</td>\n",
       "      <td>421100544.2</td>\n",
       "      <td>8.288398e+06</td>\n",
       "      <td>NaN</td>\n",
       "      <td>NaN</td>\n",
       "    </tr>\n",
       "  </tbody>\n",
       "</table>\n",
       "<p>65571 rows × 22 columns</p>\n",
       "</div>"
      ],
      "text/plain": [
       "           BearerId  MSISDNNumber  Duration_Seconds  AvgRTT_DL  AvgRTT_UL  \\\n",
       "0      1.311450e+19  3.368542e+10           243.504       45.0        5.0   \n",
       "1      1.311450e+19  3.366132e+10           236.570       46.0        7.0   \n",
       "2      1.311450e+19  3.361513e+10           231.780       45.0        5.0   \n",
       "3      1.311450e+19  3.366495e+10           230.839       39.0        2.0   \n",
       "4      7.349880e+18  3.366403e+10           238.915       38.0        1.0   \n",
       "...             ...           ...               ...        ...        ...   \n",
       "65566  7.277830e+18  3.365069e+10            81.230       32.0        0.0   \n",
       "65567  7.349880e+18  3.366345e+10            97.970       27.0        2.0   \n",
       "65568  1.311450e+19  3.362189e+10            98.249       43.0        6.0   \n",
       "65569  1.311450e+19  3.361962e+10            97.910       37.0        5.0   \n",
       "65570  1.311450e+19  3.361962e+10            86.399       45.0        5.0   \n",
       "\n",
       "       AvgBearerTP_DL  AvgBearerTP_UL  TCPDLRetransVol_Bytes  \\\n",
       "0                28.0            41.0               568730.0   \n",
       "1                46.0            46.0               568730.0   \n",
       "2                23.0            51.0               568730.0   \n",
       "3                22.0            46.0               568730.0   \n",
       "4                49.0            47.0               568730.0   \n",
       "...               ...             ...                    ...   \n",
       "65566            52.0            65.0               568730.0   \n",
       "65567            23.0            54.0               568730.0   \n",
       "65568            43.0            47.0               568730.0   \n",
       "65569            34.0            37.0               568730.0   \n",
       "65570            63.0            63.0               568730.0   \n",
       "\n",
       "       TCPULRetransVol_Bytes  GamingDL_Bytes  ...  NetflixUL_Bytes  \\\n",
       "0                    20949.5     519620584.0  ...      20806551.00   \n",
       "1                    20949.5     715350506.0  ...       9907089.00   \n",
       "2                    20949.5     124180544.0  ...       9887128.00   \n",
       "3                    20949.5     293492651.0  ...       1530332.00   \n",
       "4                    20949.5     516508263.0  ...      13958301.00   \n",
       "...                      ...             ...  ...              ...   \n",
       "65566                20949.5     526609673.0  ...      19678161.00   \n",
       "65567                20949.5     626893062.0  ...      21293148.00   \n",
       "65568                20949.5     553539484.0  ...       5065760.00   \n",
       "65569                20949.5     352536971.0  ...      13172589.00   \n",
       "65570                20949.5     422044702.6  ...      11001754.82   \n",
       "\n",
       "        Total_Data     Total_DL    Total_UL  NetflixDL_Bytes  OtherUL_Bytes  \\\n",
       "0      599743023.0  556406594.0  43336429.0       7682779.00   3.820483e+06   \n",
       "1      798245704.0  757526492.0  40719212.0      11758420.00   1.716480e+06   \n",
       "2      192095344.0  139043208.0  53052136.0        753238.00   1.493262e+07   \n",
       "3      359872820.0  329159454.0  30713366.0      17917894.00   1.168476e+07   \n",
       "4      604428354.0  546747900.0  57680454.0       1114842.00   9.207067e+06   \n",
       "...            ...          ...         ...              ...            ...   \n",
       "65566  631804110.0  574175259.0  57628851.0      17883703.00   1.348742e+07   \n",
       "65567  705783925.0  666648844.0  39135081.0      19350146.00   2.457758e+06   \n",
       "65568  627698629.0  592786405.0  34912224.0       9963942.00   1.131473e+07   \n",
       "65569  401522016.0  371895920.0  29626096.0       3322253.00   1.406930e+06   \n",
       "65570  496984389.5  455841077.5  41143312.0      11626851.72   8.264799e+06   \n",
       "\n",
       "       OtherDL_Bytes  GamingUL_Bytes  MSISDNNumber  session_frequency  \n",
       "0        318297673.0    2.710989e+06  3.360100e+10                1.0  \n",
       "1        290582586.0    1.025092e+07  3.360100e+10                1.0  \n",
       "2        350039548.0    1.496782e+07  3.360100e+10                1.0  \n",
       "3        495376623.0    1.362536e+06  3.360101e+10                1.0  \n",
       "4        624397048.0    8.432981e+06  3.360101e+10                1.0  \n",
       "...              ...             ...           ...                ...  \n",
       "65566      3264510.0    9.197207e+06           NaN                NaN  \n",
       "65567    712180387.0    4.735033e+06           NaN                NaN  \n",
       "65568    121100856.0    1.339432e+07           NaN                NaN  \n",
       "65569    814713113.0    2.529475e+06           NaN                NaN  \n",
       "65570    421100544.2    8.288398e+06           NaN                NaN  \n",
       "\n",
       "[65571 rows x 22 columns]"
      ]
     },
     "execution_count": 29,
     "metadata": {},
     "output_type": "execute_result"
    }
   ],
   "source": [
    "df"
   ]
  },
  {
   "cell_type": "code",
   "execution_count": 30,
   "metadata": {
    "executionInfo": {
     "elapsed": 16634,
     "status": "ok",
     "timestamp": 1725965149091,
     "user": {
      "displayName": "foody kids",
      "userId": "08117609502954182600"
     },
     "user_tz": -330
    },
    "id": "f0rD-m8zV_G6"
   },
   "outputs": [],
   "source": [
    "df = df.T.drop_duplicates().T\n"
   ]
  },
  {
   "cell_type": "code",
   "execution_count": 31,
   "metadata": {
    "executionInfo": {
     "elapsed": 59,
     "status": "ok",
     "timestamp": 1725965149094,
     "user": {
      "displayName": "foody kids",
      "userId": "08117609502954182600"
     },
     "user_tz": -330
    },
    "id": "e05xwsPhxfhZ"
   },
   "outputs": [],
   "source": [
    "# Drop the duplicate column\n",
    "df = df.loc[:, ~df.columns.duplicated()]\n",
    "\n",
    "# Drop rows where 'MSISDNNumber1' has NaN values\n",
    "df = df.dropna(subset=['MSISDNNumber'])\n",
    "\n",
    "# Display the cleaned DataFrame"
   ]
  },
  {
   "cell_type": "markdown",
   "metadata": {
    "id": "yeqU9--uxhnY"
   },
   "source": []
  },
  {
   "cell_type": "code",
   "execution_count": 32,
   "metadata": {
    "colab": {
     "base_uri": "https://localhost:8080/",
     "height": 444
    },
    "executionInfo": {
     "elapsed": 59,
     "status": "ok",
     "timestamp": 1725965149095,
     "user": {
      "displayName": "foody kids",
      "userId": "08117609502954182600"
     },
     "user_tz": -330
    },
    "id": "-pWbkAC-xGtF",
    "outputId": "8c687b43-a9f6-447a-ff88-e8e88b50df23"
   },
   "outputs": [
    {
     "data": {
      "text/html": [
       "<div>\n",
       "<style scoped>\n",
       "    .dataframe tbody tr th:only-of-type {\n",
       "        vertical-align: middle;\n",
       "    }\n",
       "\n",
       "    .dataframe tbody tr th {\n",
       "        vertical-align: top;\n",
       "    }\n",
       "\n",
       "    .dataframe thead th {\n",
       "        text-align: right;\n",
       "    }\n",
       "</style>\n",
       "<table border=\"1\" class=\"dataframe\">\n",
       "  <thead>\n",
       "    <tr style=\"text-align: right;\">\n",
       "      <th></th>\n",
       "      <th>BearerId</th>\n",
       "      <th>MSISDNNumber</th>\n",
       "      <th>Duration_Seconds</th>\n",
       "      <th>AvgRTT_DL</th>\n",
       "      <th>AvgRTT_UL</th>\n",
       "      <th>AvgBearerTP_DL</th>\n",
       "      <th>AvgBearerTP_UL</th>\n",
       "      <th>TCPDLRetransVol_Bytes</th>\n",
       "      <th>TCPULRetransVol_Bytes</th>\n",
       "      <th>GamingDL_Bytes</th>\n",
       "      <th>...</th>\n",
       "      <th>YoutubeDL_Bytes</th>\n",
       "      <th>NetflixUL_Bytes</th>\n",
       "      <th>Total_Data</th>\n",
       "      <th>Total_DL</th>\n",
       "      <th>Total_UL</th>\n",
       "      <th>NetflixDL_Bytes</th>\n",
       "      <th>OtherUL_Bytes</th>\n",
       "      <th>OtherDL_Bytes</th>\n",
       "      <th>GamingUL_Bytes</th>\n",
       "      <th>session_frequency</th>\n",
       "    </tr>\n",
       "  </thead>\n",
       "  <tbody>\n",
       "    <tr>\n",
       "      <th>0</th>\n",
       "      <td>1.311450e+19</td>\n",
       "      <td>3.368542e+10</td>\n",
       "      <td>243.504</td>\n",
       "      <td>45.0</td>\n",
       "      <td>5.0</td>\n",
       "      <td>28.0</td>\n",
       "      <td>41.0</td>\n",
       "      <td>568730.0</td>\n",
       "      <td>20949.5</td>\n",
       "      <td>519620584.0</td>\n",
       "      <td>...</td>\n",
       "      <td>17400892.0</td>\n",
       "      <td>20806551.00</td>\n",
       "      <td>599743023.0</td>\n",
       "      <td>556406594.0</td>\n",
       "      <td>43336429.0</td>\n",
       "      <td>7682779.00</td>\n",
       "      <td>3.820483e+06</td>\n",
       "      <td>318297673.0</td>\n",
       "      <td>2.710989e+06</td>\n",
       "      <td>1.0</td>\n",
       "    </tr>\n",
       "    <tr>\n",
       "      <th>1</th>\n",
       "      <td>1.311450e+19</td>\n",
       "      <td>3.366132e+10</td>\n",
       "      <td>236.570</td>\n",
       "      <td>46.0</td>\n",
       "      <td>7.0</td>\n",
       "      <td>46.0</td>\n",
       "      <td>46.0</td>\n",
       "      <td>568730.0</td>\n",
       "      <td>20949.5</td>\n",
       "      <td>715350506.0</td>\n",
       "      <td>...</td>\n",
       "      <td>19431593.0</td>\n",
       "      <td>9907089.00</td>\n",
       "      <td>798245704.0</td>\n",
       "      <td>757526492.0</td>\n",
       "      <td>40719212.0</td>\n",
       "      <td>11758420.00</td>\n",
       "      <td>1.716480e+06</td>\n",
       "      <td>290582586.0</td>\n",
       "      <td>1.025092e+07</td>\n",
       "      <td>1.0</td>\n",
       "    </tr>\n",
       "    <tr>\n",
       "      <th>2</th>\n",
       "      <td>1.311450e+19</td>\n",
       "      <td>3.361513e+10</td>\n",
       "      <td>231.780</td>\n",
       "      <td>45.0</td>\n",
       "      <td>5.0</td>\n",
       "      <td>23.0</td>\n",
       "      <td>51.0</td>\n",
       "      <td>568730.0</td>\n",
       "      <td>20949.5</td>\n",
       "      <td>124180544.0</td>\n",
       "      <td>...</td>\n",
       "      <td>7438887.0</td>\n",
       "      <td>9887128.00</td>\n",
       "      <td>192095344.0</td>\n",
       "      <td>139043208.0</td>\n",
       "      <td>53052136.0</td>\n",
       "      <td>753238.00</td>\n",
       "      <td>1.493262e+07</td>\n",
       "      <td>350039548.0</td>\n",
       "      <td>1.496782e+07</td>\n",
       "      <td>1.0</td>\n",
       "    </tr>\n",
       "    <tr>\n",
       "      <th>3</th>\n",
       "      <td>1.311450e+19</td>\n",
       "      <td>3.366495e+10</td>\n",
       "      <td>230.839</td>\n",
       "      <td>39.0</td>\n",
       "      <td>2.0</td>\n",
       "      <td>22.0</td>\n",
       "      <td>46.0</td>\n",
       "      <td>568730.0</td>\n",
       "      <td>20949.5</td>\n",
       "      <td>293492651.0</td>\n",
       "      <td>...</td>\n",
       "      <td>3334865.0</td>\n",
       "      <td>1530332.00</td>\n",
       "      <td>359872820.0</td>\n",
       "      <td>329159454.0</td>\n",
       "      <td>30713366.0</td>\n",
       "      <td>17917894.00</td>\n",
       "      <td>1.168476e+07</td>\n",
       "      <td>495376623.0</td>\n",
       "      <td>1.362536e+06</td>\n",
       "      <td>1.0</td>\n",
       "    </tr>\n",
       "    <tr>\n",
       "      <th>4</th>\n",
       "      <td>7.349880e+18</td>\n",
       "      <td>3.366403e+10</td>\n",
       "      <td>238.915</td>\n",
       "      <td>38.0</td>\n",
       "      <td>1.0</td>\n",
       "      <td>49.0</td>\n",
       "      <td>47.0</td>\n",
       "      <td>568730.0</td>\n",
       "      <td>20949.5</td>\n",
       "      <td>516508263.0</td>\n",
       "      <td>...</td>\n",
       "      <td>23039020.0</td>\n",
       "      <td>13958301.00</td>\n",
       "      <td>604428354.0</td>\n",
       "      <td>546747900.0</td>\n",
       "      <td>57680454.0</td>\n",
       "      <td>1114842.00</td>\n",
       "      <td>9.207067e+06</td>\n",
       "      <td>624397048.0</td>\n",
       "      <td>8.432981e+06</td>\n",
       "      <td>1.0</td>\n",
       "    </tr>\n",
       "    <tr>\n",
       "      <th>...</th>\n",
       "      <td>...</td>\n",
       "      <td>...</td>\n",
       "      <td>...</td>\n",
       "      <td>...</td>\n",
       "      <td>...</td>\n",
       "      <td>...</td>\n",
       "      <td>...</td>\n",
       "      <td>...</td>\n",
       "      <td>...</td>\n",
       "      <td>...</td>\n",
       "      <td>...</td>\n",
       "      <td>...</td>\n",
       "      <td>...</td>\n",
       "      <td>...</td>\n",
       "      <td>...</td>\n",
       "      <td>...</td>\n",
       "      <td>...</td>\n",
       "      <td>...</td>\n",
       "      <td>...</td>\n",
       "      <td>...</td>\n",
       "      <td>...</td>\n",
       "    </tr>\n",
       "    <tr>\n",
       "      <th>65566</th>\n",
       "      <td>7.277830e+18</td>\n",
       "      <td>3.365069e+10</td>\n",
       "      <td>81.230</td>\n",
       "      <td>32.0</td>\n",
       "      <td>0.0</td>\n",
       "      <td>52.0</td>\n",
       "      <td>65.0</td>\n",
       "      <td>568730.0</td>\n",
       "      <td>20949.5</td>\n",
       "      <td>526609673.0</td>\n",
       "      <td>...</td>\n",
       "      <td>16191667.0</td>\n",
       "      <td>19678161.00</td>\n",
       "      <td>631804110.0</td>\n",
       "      <td>574175259.0</td>\n",
       "      <td>57628851.0</td>\n",
       "      <td>17883703.00</td>\n",
       "      <td>1.348742e+07</td>\n",
       "      <td>3264510.0</td>\n",
       "      <td>9.197207e+06</td>\n",
       "      <td>1.0</td>\n",
       "    </tr>\n",
       "    <tr>\n",
       "      <th>65567</th>\n",
       "      <td>7.349880e+18</td>\n",
       "      <td>3.366345e+10</td>\n",
       "      <td>97.970</td>\n",
       "      <td>27.0</td>\n",
       "      <td>2.0</td>\n",
       "      <td>23.0</td>\n",
       "      <td>54.0</td>\n",
       "      <td>568730.0</td>\n",
       "      <td>20949.5</td>\n",
       "      <td>626893062.0</td>\n",
       "      <td>...</td>\n",
       "      <td>13877234.0</td>\n",
       "      <td>21293148.00</td>\n",
       "      <td>705783925.0</td>\n",
       "      <td>666648844.0</td>\n",
       "      <td>39135081.0</td>\n",
       "      <td>19350146.00</td>\n",
       "      <td>2.457758e+06</td>\n",
       "      <td>712180387.0</td>\n",
       "      <td>4.735033e+06</td>\n",
       "      <td>1.0</td>\n",
       "    </tr>\n",
       "    <tr>\n",
       "      <th>65568</th>\n",
       "      <td>1.311450e+19</td>\n",
       "      <td>3.362189e+10</td>\n",
       "      <td>98.249</td>\n",
       "      <td>43.0</td>\n",
       "      <td>6.0</td>\n",
       "      <td>43.0</td>\n",
       "      <td>47.0</td>\n",
       "      <td>568730.0</td>\n",
       "      <td>20949.5</td>\n",
       "      <td>553539484.0</td>\n",
       "      <td>...</td>\n",
       "      <td>22660510.0</td>\n",
       "      <td>5065760.00</td>\n",
       "      <td>627698629.0</td>\n",
       "      <td>592786405.0</td>\n",
       "      <td>34912224.0</td>\n",
       "      <td>9963942.00</td>\n",
       "      <td>1.131473e+07</td>\n",
       "      <td>121100856.0</td>\n",
       "      <td>1.339432e+07</td>\n",
       "      <td>1.0</td>\n",
       "    </tr>\n",
       "    <tr>\n",
       "      <th>65569</th>\n",
       "      <td>1.311450e+19</td>\n",
       "      <td>3.361962e+10</td>\n",
       "      <td>97.910</td>\n",
       "      <td>37.0</td>\n",
       "      <td>5.0</td>\n",
       "      <td>34.0</td>\n",
       "      <td>37.0</td>\n",
       "      <td>568730.0</td>\n",
       "      <td>20949.5</td>\n",
       "      <td>352536971.0</td>\n",
       "      <td>...</td>\n",
       "      <td>8817106.0</td>\n",
       "      <td>13172589.00</td>\n",
       "      <td>401522016.0</td>\n",
       "      <td>371895920.0</td>\n",
       "      <td>29626096.0</td>\n",
       "      <td>3322253.00</td>\n",
       "      <td>1.406930e+06</td>\n",
       "      <td>814713113.0</td>\n",
       "      <td>2.529475e+06</td>\n",
       "      <td>1.0</td>\n",
       "    </tr>\n",
       "    <tr>\n",
       "      <th>65570</th>\n",
       "      <td>1.311450e+19</td>\n",
       "      <td>3.361962e+10</td>\n",
       "      <td>86.399</td>\n",
       "      <td>45.0</td>\n",
       "      <td>5.0</td>\n",
       "      <td>63.0</td>\n",
       "      <td>63.0</td>\n",
       "      <td>568730.0</td>\n",
       "      <td>20949.5</td>\n",
       "      <td>422044702.6</td>\n",
       "      <td>...</td>\n",
       "      <td>11634072.5</td>\n",
       "      <td>11001754.82</td>\n",
       "      <td>496984389.5</td>\n",
       "      <td>455841077.5</td>\n",
       "      <td>41143312.0</td>\n",
       "      <td>11626851.72</td>\n",
       "      <td>8.264799e+06</td>\n",
       "      <td>421100544.2</td>\n",
       "      <td>8.288398e+06</td>\n",
       "      <td>1.0</td>\n",
       "    </tr>\n",
       "  </tbody>\n",
       "</table>\n",
       "<p>65571 rows × 21 columns</p>\n",
       "</div>"
      ],
      "text/plain": [
       "           BearerId  MSISDNNumber  Duration_Seconds  AvgRTT_DL  AvgRTT_UL  \\\n",
       "0      1.311450e+19  3.368542e+10           243.504       45.0        5.0   \n",
       "1      1.311450e+19  3.366132e+10           236.570       46.0        7.0   \n",
       "2      1.311450e+19  3.361513e+10           231.780       45.0        5.0   \n",
       "3      1.311450e+19  3.366495e+10           230.839       39.0        2.0   \n",
       "4      7.349880e+18  3.366403e+10           238.915       38.0        1.0   \n",
       "...             ...           ...               ...        ...        ...   \n",
       "65566  7.277830e+18  3.365069e+10            81.230       32.0        0.0   \n",
       "65567  7.349880e+18  3.366345e+10            97.970       27.0        2.0   \n",
       "65568  1.311450e+19  3.362189e+10            98.249       43.0        6.0   \n",
       "65569  1.311450e+19  3.361962e+10            97.910       37.0        5.0   \n",
       "65570  1.311450e+19  3.361962e+10            86.399       45.0        5.0   \n",
       "\n",
       "       AvgBearerTP_DL  AvgBearerTP_UL  TCPDLRetransVol_Bytes  \\\n",
       "0                28.0            41.0               568730.0   \n",
       "1                46.0            46.0               568730.0   \n",
       "2                23.0            51.0               568730.0   \n",
       "3                22.0            46.0               568730.0   \n",
       "4                49.0            47.0               568730.0   \n",
       "...               ...             ...                    ...   \n",
       "65566            52.0            65.0               568730.0   \n",
       "65567            23.0            54.0               568730.0   \n",
       "65568            43.0            47.0               568730.0   \n",
       "65569            34.0            37.0               568730.0   \n",
       "65570            63.0            63.0               568730.0   \n",
       "\n",
       "       TCPULRetransVol_Bytes  GamingDL_Bytes  ...  YoutubeDL_Bytes  \\\n",
       "0                    20949.5     519620584.0  ...       17400892.0   \n",
       "1                    20949.5     715350506.0  ...       19431593.0   \n",
       "2                    20949.5     124180544.0  ...        7438887.0   \n",
       "3                    20949.5     293492651.0  ...        3334865.0   \n",
       "4                    20949.5     516508263.0  ...       23039020.0   \n",
       "...                      ...             ...  ...              ...   \n",
       "65566                20949.5     526609673.0  ...       16191667.0   \n",
       "65567                20949.5     626893062.0  ...       13877234.0   \n",
       "65568                20949.5     553539484.0  ...       22660510.0   \n",
       "65569                20949.5     352536971.0  ...        8817106.0   \n",
       "65570                20949.5     422044702.6  ...       11634072.5   \n",
       "\n",
       "       NetflixUL_Bytes   Total_Data     Total_DL    Total_UL  NetflixDL_Bytes  \\\n",
       "0          20806551.00  599743023.0  556406594.0  43336429.0       7682779.00   \n",
       "1           9907089.00  798245704.0  757526492.0  40719212.0      11758420.00   \n",
       "2           9887128.00  192095344.0  139043208.0  53052136.0        753238.00   \n",
       "3           1530332.00  359872820.0  329159454.0  30713366.0      17917894.00   \n",
       "4          13958301.00  604428354.0  546747900.0  57680454.0       1114842.00   \n",
       "...                ...          ...          ...         ...              ...   \n",
       "65566      19678161.00  631804110.0  574175259.0  57628851.0      17883703.00   \n",
       "65567      21293148.00  705783925.0  666648844.0  39135081.0      19350146.00   \n",
       "65568       5065760.00  627698629.0  592786405.0  34912224.0       9963942.00   \n",
       "65569      13172589.00  401522016.0  371895920.0  29626096.0       3322253.00   \n",
       "65570      11001754.82  496984389.5  455841077.5  41143312.0      11626851.72   \n",
       "\n",
       "       OtherUL_Bytes  OtherDL_Bytes  GamingUL_Bytes  session_frequency  \n",
       "0       3.820483e+06    318297673.0    2.710989e+06                1.0  \n",
       "1       1.716480e+06    290582586.0    1.025092e+07                1.0  \n",
       "2       1.493262e+07    350039548.0    1.496782e+07                1.0  \n",
       "3       1.168476e+07    495376623.0    1.362536e+06                1.0  \n",
       "4       9.207067e+06    624397048.0    8.432981e+06                1.0  \n",
       "...              ...            ...             ...                ...  \n",
       "65566   1.348742e+07      3264510.0    9.197207e+06                1.0  \n",
       "65567   2.457758e+06    712180387.0    4.735033e+06                1.0  \n",
       "65568   1.131473e+07    121100856.0    1.339432e+07                1.0  \n",
       "65569   1.406930e+06    814713113.0    2.529475e+06                1.0  \n",
       "65570   8.264799e+06    421100544.2    8.288398e+06                1.0  \n",
       "\n",
       "[65571 rows x 21 columns]"
      ]
     },
     "execution_count": 32,
     "metadata": {},
     "output_type": "execute_result"
    }
   ],
   "source": [
    "# Calculate the median of the 'session_frequency' column\n",
    "median_session_frequency = df['session_frequency'].median()\n",
    "\n",
    "# Fill NaN values in the 'session_frequency' column with the median\n",
    "df['session_frequency'].fillna(median_session_frequency, inplace=True)\n",
    "\n",
    "# Display the DataFrame after filling NaN values\n",
    "df"
   ]
  },
  {
   "cell_type": "markdown",
   "metadata": {
    "id": "gbUExHeATBm7"
   },
   "source": [
    "##Engagement score to each user. Consider the engagement score as the Euclidean distance between the user data point & the less engaged cluster"
   ]
  },
  {
   "cell_type": "code",
   "execution_count": 33,
   "metadata": {
    "colab": {
     "base_uri": "https://localhost:8080/"
    },
    "executionInfo": {
     "elapsed": 4867,
     "status": "ok",
     "timestamp": 1725965153908,
     "user": {
      "displayName": "foody kids",
      "userId": "08117609502954182600"
     },
     "user_tz": -330
    },
    "id": "bETgnHYoWZRz",
    "outputId": "404a35a9-5cad-463d-f7b9-e77f5c4ec1de"
   },
   "outputs": [
    {
     "name": "stdout",
     "output_type": "stream",
     "text": [
      "Engagement scores have been saved to: cengagement_scores_simple.csv\n"
     ]
    }
   ],
   "source": [
    "from scipy.spatial.distance import euclidean\n",
    "\n",
    "# Select the relevant columns used in clustering\n",
    "features = df[['session_frequency', 'Duration_Seconds', 'Total_Data']]\n",
    "\n",
    "# Check for NaNs or Infs and handle them (e.g., fill with 0 or drop)\n",
    "features.replace([np.inf, -np.inf], np.nan, inplace=True)\n",
    "features.fillna(0, inplace=True)  # Alternatively, you can use features.dropna(inplace=True)\n",
    "\n",
    "# Define the centroid of the less engaged cluster (cluster 1)\n",
    "less_engaged_centroid = [0.002972, 0.093462, 0.068495]\n",
    "\n",
    "# Calculate the Euclidean distance for each user from the less engaged cluster centroid\n",
    "df['engagement_score'] = features.apply(lambda row: euclidean(row, less_engaged_centroid), axis=1)\n",
    "\n",
    "# Save the result with engagement scores\n",
    "output_file_path = 'cengagement_scores_simple.csv'\n",
    "df.to_csv(output_file_path, index=False)\n",
    "\n",
    "# Output the file path\n",
    "print(\"Engagement scores have been saved to:\", output_file_path)"
   ]
  },
  {
   "cell_type": "code",
   "execution_count": 34,
   "metadata": {
    "executionInfo": {
     "elapsed": 8,
     "status": "ok",
     "timestamp": 1725965153908,
     "user": {
      "displayName": "foody kids",
      "userId": "08117609502954182600"
     },
     "user_tz": -330
    },
    "id": "mxU5FaZvzp_a"
   },
   "outputs": [],
   "source": [
    "# Load the CSV file with engagement scores\n",
    "engagement_scores = pd.read_csv('cengagement_scores_simple.csv')\n",
    "\n"
   ]
  },
  {
   "cell_type": "code",
   "execution_count": 35,
   "metadata": {
    "colab": {
     "base_uri": "https://localhost:8080/",
     "height": 256
    },
    "executionInfo": {
     "elapsed": 8,
     "status": "ok",
     "timestamp": 1725965153908,
     "user": {
      "displayName": "foody kids",
      "userId": "08117609502954182600"
     },
     "user_tz": -330
    },
    "id": "Lag99vOsT_nD",
    "outputId": "af1ef2dc-5575-4c3e-dca6-7ba6bebfb267"
   },
   "outputs": [
    {
     "data": {
      "text/html": [
       "<div>\n",
       "<style scoped>\n",
       "    .dataframe tbody tr th:only-of-type {\n",
       "        vertical-align: middle;\n",
       "    }\n",
       "\n",
       "    .dataframe tbody tr th {\n",
       "        vertical-align: top;\n",
       "    }\n",
       "\n",
       "    .dataframe thead th {\n",
       "        text-align: right;\n",
       "    }\n",
       "</style>\n",
       "<table border=\"1\" class=\"dataframe\">\n",
       "  <thead>\n",
       "    <tr style=\"text-align: right;\">\n",
       "      <th></th>\n",
       "      <th>BearerId</th>\n",
       "      <th>MSISDNNumber</th>\n",
       "      <th>Duration_Seconds</th>\n",
       "      <th>AvgRTT_DL</th>\n",
       "      <th>AvgRTT_UL</th>\n",
       "      <th>AvgBearerTP_DL</th>\n",
       "      <th>AvgBearerTP_UL</th>\n",
       "      <th>TCPDLRetransVol_Bytes</th>\n",
       "      <th>TCPULRetransVol_Bytes</th>\n",
       "      <th>GamingDL_Bytes</th>\n",
       "      <th>...</th>\n",
       "      <th>NetflixUL_Bytes</th>\n",
       "      <th>Total_Data</th>\n",
       "      <th>Total_DL</th>\n",
       "      <th>Total_UL</th>\n",
       "      <th>NetflixDL_Bytes</th>\n",
       "      <th>OtherUL_Bytes</th>\n",
       "      <th>OtherDL_Bytes</th>\n",
       "      <th>GamingUL_Bytes</th>\n",
       "      <th>session_frequency</th>\n",
       "      <th>engagement_score</th>\n",
       "    </tr>\n",
       "  </thead>\n",
       "  <tbody>\n",
       "    <tr>\n",
       "      <th>0</th>\n",
       "      <td>1.311450e+19</td>\n",
       "      <td>3.368542e+10</td>\n",
       "      <td>243.504</td>\n",
       "      <td>45.0</td>\n",
       "      <td>5.0</td>\n",
       "      <td>28.0</td>\n",
       "      <td>41.0</td>\n",
       "      <td>568730.0</td>\n",
       "      <td>20949.5</td>\n",
       "      <td>519620584.0</td>\n",
       "      <td>...</td>\n",
       "      <td>20806551.0</td>\n",
       "      <td>599743023.0</td>\n",
       "      <td>556406594.0</td>\n",
       "      <td>43336429.0</td>\n",
       "      <td>7682779.0</td>\n",
       "      <td>3820483.0</td>\n",
       "      <td>318297673.0</td>\n",
       "      <td>2710989.0</td>\n",
       "      <td>1.0</td>\n",
       "      <td>5.997430e+08</td>\n",
       "    </tr>\n",
       "    <tr>\n",
       "      <th>1</th>\n",
       "      <td>1.311450e+19</td>\n",
       "      <td>3.366132e+10</td>\n",
       "      <td>236.570</td>\n",
       "      <td>46.0</td>\n",
       "      <td>7.0</td>\n",
       "      <td>46.0</td>\n",
       "      <td>46.0</td>\n",
       "      <td>568730.0</td>\n",
       "      <td>20949.5</td>\n",
       "      <td>715350506.0</td>\n",
       "      <td>...</td>\n",
       "      <td>9907089.0</td>\n",
       "      <td>798245704.0</td>\n",
       "      <td>757526492.0</td>\n",
       "      <td>40719212.0</td>\n",
       "      <td>11758420.0</td>\n",
       "      <td>1716480.0</td>\n",
       "      <td>290582586.0</td>\n",
       "      <td>10250922.0</td>\n",
       "      <td>1.0</td>\n",
       "      <td>7.982457e+08</td>\n",
       "    </tr>\n",
       "    <tr>\n",
       "      <th>2</th>\n",
       "      <td>1.311450e+19</td>\n",
       "      <td>3.361513e+10</td>\n",
       "      <td>231.780</td>\n",
       "      <td>45.0</td>\n",
       "      <td>5.0</td>\n",
       "      <td>23.0</td>\n",
       "      <td>51.0</td>\n",
       "      <td>568730.0</td>\n",
       "      <td>20949.5</td>\n",
       "      <td>124180544.0</td>\n",
       "      <td>...</td>\n",
       "      <td>9887128.0</td>\n",
       "      <td>192095344.0</td>\n",
       "      <td>139043208.0</td>\n",
       "      <td>53052136.0</td>\n",
       "      <td>753238.0</td>\n",
       "      <td>14932623.0</td>\n",
       "      <td>350039548.0</td>\n",
       "      <td>14967821.0</td>\n",
       "      <td>1.0</td>\n",
       "      <td>1.920953e+08</td>\n",
       "    </tr>\n",
       "    <tr>\n",
       "      <th>3</th>\n",
       "      <td>1.311450e+19</td>\n",
       "      <td>3.366495e+10</td>\n",
       "      <td>230.839</td>\n",
       "      <td>39.0</td>\n",
       "      <td>2.0</td>\n",
       "      <td>22.0</td>\n",
       "      <td>46.0</td>\n",
       "      <td>568730.0</td>\n",
       "      <td>20949.5</td>\n",
       "      <td>293492651.0</td>\n",
       "      <td>...</td>\n",
       "      <td>1530332.0</td>\n",
       "      <td>359872820.0</td>\n",
       "      <td>329159454.0</td>\n",
       "      <td>30713366.0</td>\n",
       "      <td>17917894.0</td>\n",
       "      <td>11684759.0</td>\n",
       "      <td>495376623.0</td>\n",
       "      <td>1362536.0</td>\n",
       "      <td>1.0</td>\n",
       "      <td>3.598728e+08</td>\n",
       "    </tr>\n",
       "    <tr>\n",
       "      <th>4</th>\n",
       "      <td>7.349880e+18</td>\n",
       "      <td>3.366403e+10</td>\n",
       "      <td>238.915</td>\n",
       "      <td>38.0</td>\n",
       "      <td>1.0</td>\n",
       "      <td>49.0</td>\n",
       "      <td>47.0</td>\n",
       "      <td>568730.0</td>\n",
       "      <td>20949.5</td>\n",
       "      <td>516508263.0</td>\n",
       "      <td>...</td>\n",
       "      <td>13958301.0</td>\n",
       "      <td>604428354.0</td>\n",
       "      <td>546747900.0</td>\n",
       "      <td>57680454.0</td>\n",
       "      <td>1114842.0</td>\n",
       "      <td>9207067.0</td>\n",
       "      <td>624397048.0</td>\n",
       "      <td>8432981.0</td>\n",
       "      <td>1.0</td>\n",
       "      <td>6.044284e+08</td>\n",
       "    </tr>\n",
       "  </tbody>\n",
       "</table>\n",
       "<p>5 rows × 22 columns</p>\n",
       "</div>"
      ],
      "text/plain": [
       "       BearerId  MSISDNNumber  Duration_Seconds  AvgRTT_DL  AvgRTT_UL  \\\n",
       "0  1.311450e+19  3.368542e+10           243.504       45.0        5.0   \n",
       "1  1.311450e+19  3.366132e+10           236.570       46.0        7.0   \n",
       "2  1.311450e+19  3.361513e+10           231.780       45.0        5.0   \n",
       "3  1.311450e+19  3.366495e+10           230.839       39.0        2.0   \n",
       "4  7.349880e+18  3.366403e+10           238.915       38.0        1.0   \n",
       "\n",
       "   AvgBearerTP_DL  AvgBearerTP_UL  TCPDLRetransVol_Bytes  \\\n",
       "0            28.0            41.0               568730.0   \n",
       "1            46.0            46.0               568730.0   \n",
       "2            23.0            51.0               568730.0   \n",
       "3            22.0            46.0               568730.0   \n",
       "4            49.0            47.0               568730.0   \n",
       "\n",
       "   TCPULRetransVol_Bytes  GamingDL_Bytes  ...  NetflixUL_Bytes   Total_Data  \\\n",
       "0                20949.5     519620584.0  ...       20806551.0  599743023.0   \n",
       "1                20949.5     715350506.0  ...        9907089.0  798245704.0   \n",
       "2                20949.5     124180544.0  ...        9887128.0  192095344.0   \n",
       "3                20949.5     293492651.0  ...        1530332.0  359872820.0   \n",
       "4                20949.5     516508263.0  ...       13958301.0  604428354.0   \n",
       "\n",
       "      Total_DL    Total_UL  NetflixDL_Bytes  OtherUL_Bytes  OtherDL_Bytes  \\\n",
       "0  556406594.0  43336429.0        7682779.0      3820483.0    318297673.0   \n",
       "1  757526492.0  40719212.0       11758420.0      1716480.0    290582586.0   \n",
       "2  139043208.0  53052136.0         753238.0     14932623.0    350039548.0   \n",
       "3  329159454.0  30713366.0       17917894.0     11684759.0    495376623.0   \n",
       "4  546747900.0  57680454.0        1114842.0      9207067.0    624397048.0   \n",
       "\n",
       "   GamingUL_Bytes  session_frequency  engagement_score  \n",
       "0       2710989.0                1.0      5.997430e+08  \n",
       "1      10250922.0                1.0      7.982457e+08  \n",
       "2      14967821.0                1.0      1.920953e+08  \n",
       "3       1362536.0                1.0      3.598728e+08  \n",
       "4       8432981.0                1.0      6.044284e+08  \n",
       "\n",
       "[5 rows x 22 columns]"
      ]
     },
     "execution_count": 35,
     "metadata": {},
     "output_type": "execute_result"
    }
   ],
   "source": [
    "engagement_scores.head()"
   ]
  },
  {
   "cell_type": "markdown",
   "metadata": {
    "id": "ci8BUg6reb-D"
   },
   "source": [
    "###  Create engagement_scores dataframe and save it in csv"
   ]
  },
  {
   "cell_type": "code",
   "execution_count": 36,
   "metadata": {
    "colab": {
     "base_uri": "https://localhost:8080/",
     "height": 241
    },
    "executionInfo": {
     "elapsed": 1347,
     "status": "ok",
     "timestamp": 1725965155249,
     "user": {
      "displayName": "foody kids",
      "userId": "08117609502954182600"
     },
     "user_tz": -330
    },
    "id": "Dv7mq34md1xv",
    "outputId": "44f94749-bd79-4430-8e45-8abba8531ef0"
   },
   "outputs": [
    {
     "data": {
      "text/plain": [
       "0    5.997430e+08\n",
       "1    7.982457e+08\n",
       "2    1.920953e+08\n",
       "3    3.598728e+08\n",
       "4    6.044284e+08\n",
       "Name: engagement_score, dtype: float64"
      ]
     },
     "execution_count": 36,
     "metadata": {},
     "output_type": "execute_result"
    }
   ],
   "source": [
    "# Select and display the relevant columns\n",
    "df_engagement_scores = engagement_scores['engagement_score']\n",
    "\n",
    "\n",
    "\n",
    "#dataframe to csv\n",
    "df_engagement_scores.to_csv('engagement_scores.csv', index=False)\n",
    "\n",
    "df_engagement_scores.head()"
   ]
  },
  {
   "cell_type": "code",
   "execution_count": 37,
   "metadata": {
    "colab": {
     "base_uri": "https://localhost:8080/"
    },
    "executionInfo": {
     "elapsed": 31,
     "status": "ok",
     "timestamp": 1725965155249,
     "user": {
      "displayName": "foody kids",
      "userId": "08117609502954182600"
     },
     "user_tz": -330
    },
    "id": "Rc9bmPPTeSdx",
    "outputId": "205b1d17-b9de-4e57-af84-24e0bc90f33c"
   },
   "outputs": [
    {
     "data": {
      "text/plain": [
       "0"
      ]
     },
     "execution_count": 37,
     "metadata": {},
     "output_type": "execute_result"
    }
   ],
   "source": [
    "df_engagement_scores.isnull().sum()\n"
   ]
  },
  {
   "cell_type": "markdown",
   "metadata": {
    "id": "m6Ar5qanTQIi"
   },
   "source": [
    "#Experience score for each user. Consider the experience score as the Euclidean distance between the user data point & the worst experience cluster"
   ]
  },
  {
   "cell_type": "code",
   "execution_count": 38,
   "metadata": {
    "executionInfo": {
     "elapsed": 26,
     "status": "ok",
     "timestamp": 1725965155249,
     "user": {
      "displayName": "foody kids",
      "userId": "08117609502954182600"
     },
     "user_tz": -330
    },
    "id": "glCN_-kU5KO1"
   },
   "outputs": [],
   "source": [
    "# Calculate the centroid for the worst experience cluster (maximum values)\n",
    "worst_experience_centroid = engagement_scores.max()\n",
    "\n",
    "# Compute the Euclidean distance from each user to the worst experience cluster\n",
    "experience_scores = np.linalg.norm(engagement_scores - worst_experience_centroid, axis=1)\n",
    "\n",
    "# Add the experience scores to the DataFrame\n",
    "engagement_scores['Experience_Score'] = experience_scores"
   ]
  },
  {
   "cell_type": "code",
   "execution_count": 39,
   "metadata": {
    "colab": {
     "base_uri": "https://localhost:8080/",
     "height": 256
    },
    "executionInfo": {
     "elapsed": 27,
     "status": "ok",
     "timestamp": 1725965155250,
     "user": {
      "displayName": "foody kids",
      "userId": "08117609502954182600"
     },
     "user_tz": -330
    },
    "id": "GUbWLA_-s3jD",
    "outputId": "9800198d-d25f-4375-f2a7-2e9a3ca03e5c"
   },
   "outputs": [
    {
     "data": {
      "text/html": [
       "<div>\n",
       "<style scoped>\n",
       "    .dataframe tbody tr th:only-of-type {\n",
       "        vertical-align: middle;\n",
       "    }\n",
       "\n",
       "    .dataframe tbody tr th {\n",
       "        vertical-align: top;\n",
       "    }\n",
       "\n",
       "    .dataframe thead th {\n",
       "        text-align: right;\n",
       "    }\n",
       "</style>\n",
       "<table border=\"1\" class=\"dataframe\">\n",
       "  <thead>\n",
       "    <tr style=\"text-align: right;\">\n",
       "      <th></th>\n",
       "      <th>BearerId</th>\n",
       "      <th>MSISDNNumber</th>\n",
       "      <th>Duration_Seconds</th>\n",
       "      <th>AvgRTT_DL</th>\n",
       "      <th>AvgRTT_UL</th>\n",
       "      <th>AvgBearerTP_DL</th>\n",
       "      <th>AvgBearerTP_UL</th>\n",
       "      <th>TCPDLRetransVol_Bytes</th>\n",
       "      <th>TCPULRetransVol_Bytes</th>\n",
       "      <th>GamingDL_Bytes</th>\n",
       "      <th>...</th>\n",
       "      <th>Total_Data</th>\n",
       "      <th>Total_DL</th>\n",
       "      <th>Total_UL</th>\n",
       "      <th>NetflixDL_Bytes</th>\n",
       "      <th>OtherUL_Bytes</th>\n",
       "      <th>OtherDL_Bytes</th>\n",
       "      <th>GamingUL_Bytes</th>\n",
       "      <th>session_frequency</th>\n",
       "      <th>engagement_score</th>\n",
       "      <th>Experience_Score</th>\n",
       "    </tr>\n",
       "  </thead>\n",
       "  <tbody>\n",
       "    <tr>\n",
       "      <th>0</th>\n",
       "      <td>1.311450e+19</td>\n",
       "      <td>3.368542e+10</td>\n",
       "      <td>243.504</td>\n",
       "      <td>45.0</td>\n",
       "      <td>5.0</td>\n",
       "      <td>28.0</td>\n",
       "      <td>41.0</td>\n",
       "      <td>568730.0</td>\n",
       "      <td>20949.5</td>\n",
       "      <td>519620584.0</td>\n",
       "      <td>...</td>\n",
       "      <td>599743023.0</td>\n",
       "      <td>556406594.0</td>\n",
       "      <td>43336429.0</td>\n",
       "      <td>7682779.0</td>\n",
       "      <td>3820483.0</td>\n",
       "      <td>318297673.0</td>\n",
       "      <td>2710989.0</td>\n",
       "      <td>1.0</td>\n",
       "      <td>5.997430e+08</td>\n",
       "      <td>7.200000e+16</td>\n",
       "    </tr>\n",
       "    <tr>\n",
       "      <th>1</th>\n",
       "      <td>1.311450e+19</td>\n",
       "      <td>3.366132e+10</td>\n",
       "      <td>236.570</td>\n",
       "      <td>46.0</td>\n",
       "      <td>7.0</td>\n",
       "      <td>46.0</td>\n",
       "      <td>46.0</td>\n",
       "      <td>568730.0</td>\n",
       "      <td>20949.5</td>\n",
       "      <td>715350506.0</td>\n",
       "      <td>...</td>\n",
       "      <td>798245704.0</td>\n",
       "      <td>757526492.0</td>\n",
       "      <td>40719212.0</td>\n",
       "      <td>11758420.0</td>\n",
       "      <td>1716480.0</td>\n",
       "      <td>290582586.0</td>\n",
       "      <td>10250922.0</td>\n",
       "      <td>1.0</td>\n",
       "      <td>7.982457e+08</td>\n",
       "      <td>7.200000e+16</td>\n",
       "    </tr>\n",
       "    <tr>\n",
       "      <th>2</th>\n",
       "      <td>1.311450e+19</td>\n",
       "      <td>3.361513e+10</td>\n",
       "      <td>231.780</td>\n",
       "      <td>45.0</td>\n",
       "      <td>5.0</td>\n",
       "      <td>23.0</td>\n",
       "      <td>51.0</td>\n",
       "      <td>568730.0</td>\n",
       "      <td>20949.5</td>\n",
       "      <td>124180544.0</td>\n",
       "      <td>...</td>\n",
       "      <td>192095344.0</td>\n",
       "      <td>139043208.0</td>\n",
       "      <td>53052136.0</td>\n",
       "      <td>753238.0</td>\n",
       "      <td>14932623.0</td>\n",
       "      <td>350039548.0</td>\n",
       "      <td>14967821.0</td>\n",
       "      <td>1.0</td>\n",
       "      <td>1.920953e+08</td>\n",
       "      <td>7.200000e+16</td>\n",
       "    </tr>\n",
       "    <tr>\n",
       "      <th>3</th>\n",
       "      <td>1.311450e+19</td>\n",
       "      <td>3.366495e+10</td>\n",
       "      <td>230.839</td>\n",
       "      <td>39.0</td>\n",
       "      <td>2.0</td>\n",
       "      <td>22.0</td>\n",
       "      <td>46.0</td>\n",
       "      <td>568730.0</td>\n",
       "      <td>20949.5</td>\n",
       "      <td>293492651.0</td>\n",
       "      <td>...</td>\n",
       "      <td>359872820.0</td>\n",
       "      <td>329159454.0</td>\n",
       "      <td>30713366.0</td>\n",
       "      <td>17917894.0</td>\n",
       "      <td>11684759.0</td>\n",
       "      <td>495376623.0</td>\n",
       "      <td>1362536.0</td>\n",
       "      <td>1.0</td>\n",
       "      <td>3.598728e+08</td>\n",
       "      <td>7.200000e+16</td>\n",
       "    </tr>\n",
       "    <tr>\n",
       "      <th>4</th>\n",
       "      <td>7.349880e+18</td>\n",
       "      <td>3.366403e+10</td>\n",
       "      <td>238.915</td>\n",
       "      <td>38.0</td>\n",
       "      <td>1.0</td>\n",
       "      <td>49.0</td>\n",
       "      <td>47.0</td>\n",
       "      <td>568730.0</td>\n",
       "      <td>20949.5</td>\n",
       "      <td>516508263.0</td>\n",
       "      <td>...</td>\n",
       "      <td>604428354.0</td>\n",
       "      <td>546747900.0</td>\n",
       "      <td>57680454.0</td>\n",
       "      <td>1114842.0</td>\n",
       "      <td>9207067.0</td>\n",
       "      <td>624397048.0</td>\n",
       "      <td>8432981.0</td>\n",
       "      <td>1.0</td>\n",
       "      <td>6.044284e+08</td>\n",
       "      <td>5.836620e+18</td>\n",
       "    </tr>\n",
       "  </tbody>\n",
       "</table>\n",
       "<p>5 rows × 23 columns</p>\n",
       "</div>"
      ],
      "text/plain": [
       "       BearerId  MSISDNNumber  Duration_Seconds  AvgRTT_DL  AvgRTT_UL  \\\n",
       "0  1.311450e+19  3.368542e+10           243.504       45.0        5.0   \n",
       "1  1.311450e+19  3.366132e+10           236.570       46.0        7.0   \n",
       "2  1.311450e+19  3.361513e+10           231.780       45.0        5.0   \n",
       "3  1.311450e+19  3.366495e+10           230.839       39.0        2.0   \n",
       "4  7.349880e+18  3.366403e+10           238.915       38.0        1.0   \n",
       "\n",
       "   AvgBearerTP_DL  AvgBearerTP_UL  TCPDLRetransVol_Bytes  \\\n",
       "0            28.0            41.0               568730.0   \n",
       "1            46.0            46.0               568730.0   \n",
       "2            23.0            51.0               568730.0   \n",
       "3            22.0            46.0               568730.0   \n",
       "4            49.0            47.0               568730.0   \n",
       "\n",
       "   TCPULRetransVol_Bytes  GamingDL_Bytes  ...   Total_Data     Total_DL  \\\n",
       "0                20949.5     519620584.0  ...  599743023.0  556406594.0   \n",
       "1                20949.5     715350506.0  ...  798245704.0  757526492.0   \n",
       "2                20949.5     124180544.0  ...  192095344.0  139043208.0   \n",
       "3                20949.5     293492651.0  ...  359872820.0  329159454.0   \n",
       "4                20949.5     516508263.0  ...  604428354.0  546747900.0   \n",
       "\n",
       "     Total_UL  NetflixDL_Bytes  OtherUL_Bytes  OtherDL_Bytes  GamingUL_Bytes  \\\n",
       "0  43336429.0        7682779.0      3820483.0    318297673.0       2710989.0   \n",
       "1  40719212.0       11758420.0      1716480.0    290582586.0      10250922.0   \n",
       "2  53052136.0         753238.0     14932623.0    350039548.0      14967821.0   \n",
       "3  30713366.0       17917894.0     11684759.0    495376623.0       1362536.0   \n",
       "4  57680454.0        1114842.0      9207067.0    624397048.0       8432981.0   \n",
       "\n",
       "   session_frequency  engagement_score  Experience_Score  \n",
       "0                1.0      5.997430e+08      7.200000e+16  \n",
       "1                1.0      7.982457e+08      7.200000e+16  \n",
       "2                1.0      1.920953e+08      7.200000e+16  \n",
       "3                1.0      3.598728e+08      7.200000e+16  \n",
       "4                1.0      6.044284e+08      5.836620e+18  \n",
       "\n",
       "[5 rows x 23 columns]"
      ]
     },
     "execution_count": 39,
     "metadata": {},
     "output_type": "execute_result"
    }
   ],
   "source": [
    "engagement_scores.head()"
   ]
  },
  {
   "cell_type": "markdown",
   "metadata": {
    "id": "aaWG-KQQgjc7"
   },
   "source": [
    "###  Create Experience_Score dataframe and save it in csv"
   ]
  },
  {
   "cell_type": "code",
   "execution_count": 40,
   "metadata": {
    "executionInfo": {
     "elapsed": 24,
     "status": "ok",
     "timestamp": 1725965155250,
     "user": {
      "displayName": "foody kids",
      "userId": "08117609502954182600"
     },
     "user_tz": -330
    },
    "id": "CN1b57wofhmm"
   },
   "outputs": [],
   "source": [
    "# Select and display the relevant columns\n",
    "df_experience_Score = engagement_scores['Experience_Score']\n",
    "\n",
    "\n",
    "\n",
    "#dataframe to csv\n",
    "df_experience_Score.to_csv('experience_Score.csv', index=False)\n",
    "\n"
   ]
  },
  {
   "cell_type": "code",
   "execution_count": 41,
   "metadata": {
    "colab": {
     "base_uri": "https://localhost:8080/"
    },
    "executionInfo": {
     "elapsed": 24,
     "status": "ok",
     "timestamp": 1725965155251,
     "user": {
      "displayName": "foody kids",
      "userId": "08117609502954182600"
     },
     "user_tz": -330
    },
    "id": "9Ftwyz0NhoDT",
    "outputId": "954a0084-4952-4f1f-abed-1931f8e66f1f"
   },
   "outputs": [
    {
     "data": {
      "text/plain": [
       "0"
      ]
     },
     "execution_count": 41,
     "metadata": {},
     "output_type": "execute_result"
    }
   ],
   "source": [
    "df_experience_Score.isnull().sum()"
   ]
  },
  {
   "cell_type": "markdown",
   "metadata": {
    "id": "P3i8b3cS7a62"
   },
   "source": []
  },
  {
   "cell_type": "markdown",
   "metadata": {
    "id": "iICqesOBX9Mf"
   },
   "source": [
    "##  The satisfaction score & report the top 10 satisfied customer"
   ]
  },
  {
   "cell_type": "code",
   "execution_count": 42,
   "metadata": {
    "executionInfo": {
     "elapsed": 21,
     "status": "ok",
     "timestamp": 1725965155251,
     "user": {
      "displayName": "foody kids",
      "userId": "08117609502954182600"
     },
     "user_tz": -330
    },
    "id": "fEt232_a7Rd1"
   },
   "outputs": [],
   "source": [
    "# Calculate the Satisfaction Score as the average of engagement and experience scores\n",
    "engagement_scores['Satisfaction_Score'] = engagement_scores[['engagement_score', 'Experience_Score']].mean(axis=1)\n",
    "\n",
    "# Sort the DataFrame by Satisfaction Score in descending order to get the top 10 satisfied customers\n",
    "top_10_satisfied_customers = engagement_scores.nlargest(10, 'Satisfaction_Score')\n",
    "\n"
   ]
  },
  {
   "cell_type": "code",
   "execution_count": 43,
   "metadata": {
    "colab": {
     "base_uri": "https://localhost:8080/",
     "height": 398
    },
    "executionInfo": {
     "elapsed": 20,
     "status": "ok",
     "timestamp": 1725965155251,
     "user": {
      "displayName": "foody kids",
      "userId": "08117609502954182600"
     },
     "user_tz": -330
    },
    "id": "Q8LqZSBCW0-u",
    "outputId": "cc1b79b6-7d47-4b71-bbd0-b10ada140279"
   },
   "outputs": [
    {
     "data": {
      "text/plain": [
       "59363    3.134480e+18\n",
       "11404    3.134480e+18\n",
       "1672     3.134480e+18\n",
       "5318     3.134480e+18\n",
       "45918    3.134480e+18\n",
       "9026     3.134480e+18\n",
       "2931     3.134480e+18\n",
       "1015     3.134480e+18\n",
       "3032     3.134480e+18\n",
       "11071    3.134480e+18\n",
       "Name: Satisfaction_Score, dtype: float64"
      ]
     },
     "execution_count": 43,
     "metadata": {},
     "output_type": "execute_result"
    }
   ],
   "source": [
    "# Select and display the relevant columns\n",
    "df_top_10_satisfied_customers = top_10_satisfied_customers[ 'Satisfaction_Score']\n",
    "df_top_10_satisfied_customers"
   ]
  },
  {
   "cell_type": "markdown",
   "metadata": {
    "id": "uNeWz6lMhyp0"
   },
   "source": [
    "###  Create Satisfaction_Score dataframe and save it in csv"
   ]
  },
  {
   "cell_type": "code",
   "execution_count": 44,
   "metadata": {
    "colab": {
     "base_uri": "https://localhost:8080/",
     "height": 241
    },
    "executionInfo": {
     "elapsed": 481,
     "status": "ok",
     "timestamp": 1725965155714,
     "user": {
      "displayName": "foody kids",
      "userId": "08117609502954182600"
     },
     "user_tz": -330
    },
    "id": "GNg3WMyihXDu",
    "outputId": "e8e7f6df-27f2-45e3-dca0-ac9af807d05a"
   },
   "outputs": [
    {
     "data": {
      "text/plain": [
       "0    3.600000e+16\n",
       "1    3.600000e+16\n",
       "2    3.600000e+16\n",
       "3    3.600000e+16\n",
       "4    2.918310e+18\n",
       "Name: Satisfaction_Score, dtype: float64"
      ]
     },
     "execution_count": 44,
     "metadata": {},
     "output_type": "execute_result"
    }
   ],
   "source": [
    "# Select and display the relevant columns\n",
    "df_Satisfaction_Score = engagement_scores['Satisfaction_Score']\n",
    "\n",
    "\n",
    "\n",
    "#dataframe to csv\n",
    "df_Satisfaction_Score.to_csv('Satisfaction_Score.csv', index=False)\n",
    "\n",
    "df_Satisfaction_Score.head()"
   ]
  },
  {
   "cell_type": "code",
   "execution_count": 45,
   "metadata": {
    "colab": {
     "base_uri": "https://localhost:8080/"
    },
    "executionInfo": {
     "elapsed": 11,
     "status": "ok",
     "timestamp": 1725965155714,
     "user": {
      "displayName": "foody kids",
      "userId": "08117609502954182600"
     },
     "user_tz": -330
    },
    "id": "a6m4JZ5nhjsK",
    "outputId": "ad7aca2b-586a-4a0f-a28a-52458195571b"
   },
   "outputs": [
    {
     "data": {
      "text/plain": [
       "0"
      ]
     },
     "execution_count": 45,
     "metadata": {},
     "output_type": "execute_result"
    }
   ],
   "source": [
    "df_Satisfaction_Score.isnull().sum()"
   ]
  },
  {
   "cell_type": "code",
   "execution_count": 46,
   "metadata": {
    "colab": {
     "base_uri": "https://localhost:8080/",
     "height": 206
    },
    "executionInfo": {
     "elapsed": 9,
     "status": "ok",
     "timestamp": 1725965155714,
     "user": {
      "displayName": "foody kids",
      "userId": "08117609502954182600"
     },
     "user_tz": -330
    },
    "id": "1y1K9M4fyF3X",
    "outputId": "96155485-2ab9-46d5-9d4b-76f29ec91e99"
   },
   "outputs": [
    {
     "data": {
      "text/html": [
       "<div>\n",
       "<style scoped>\n",
       "    .dataframe tbody tr th:only-of-type {\n",
       "        vertical-align: middle;\n",
       "    }\n",
       "\n",
       "    .dataframe tbody tr th {\n",
       "        vertical-align: top;\n",
       "    }\n",
       "\n",
       "    .dataframe thead th {\n",
       "        text-align: right;\n",
       "    }\n",
       "</style>\n",
       "<table border=\"1\" class=\"dataframe\">\n",
       "  <thead>\n",
       "    <tr style=\"text-align: right;\">\n",
       "      <th></th>\n",
       "      <th>Satisfaction_Score</th>\n",
       "    </tr>\n",
       "  </thead>\n",
       "  <tbody>\n",
       "    <tr>\n",
       "      <th>0</th>\n",
       "      <td>3.600000e+16</td>\n",
       "    </tr>\n",
       "    <tr>\n",
       "      <th>1</th>\n",
       "      <td>3.600000e+16</td>\n",
       "    </tr>\n",
       "    <tr>\n",
       "      <th>2</th>\n",
       "      <td>3.600000e+16</td>\n",
       "    </tr>\n",
       "    <tr>\n",
       "      <th>3</th>\n",
       "      <td>3.600000e+16</td>\n",
       "    </tr>\n",
       "    <tr>\n",
       "      <th>4</th>\n",
       "      <td>2.918310e+18</td>\n",
       "    </tr>\n",
       "  </tbody>\n",
       "</table>\n",
       "</div>"
      ],
      "text/plain": [
       "   Satisfaction_Score\n",
       "0        3.600000e+16\n",
       "1        3.600000e+16\n",
       "2        3.600000e+16\n",
       "3        3.600000e+16\n",
       "4        2.918310e+18"
      ]
     },
     "execution_count": 46,
     "metadata": {},
     "output_type": "execute_result"
    }
   ],
   "source": [
    " #read the data from google drive\n",
    "ss =pd.read_csv(\"Satisfaction_Score.csv\")\n",
    "ss.head()"
   ]
  },
  {
   "cell_type": "code",
   "execution_count": 47,
   "metadata": {
    "colab": {
     "base_uri": "https://localhost:8080/",
     "height": 206
    },
    "executionInfo": {
     "elapsed": 7,
     "status": "ok",
     "timestamp": 1725965155714,
     "user": {
      "displayName": "foody kids",
      "userId": "08117609502954182600"
     },
     "user_tz": -330
    },
    "id": "OHjmkJb8z1N0",
    "outputId": "1c3aa4d6-6448-4499-b048-255059403449"
   },
   "outputs": [
    {
     "data": {
      "text/html": [
       "<div>\n",
       "<style scoped>\n",
       "    .dataframe tbody tr th:only-of-type {\n",
       "        vertical-align: middle;\n",
       "    }\n",
       "\n",
       "    .dataframe tbody tr th {\n",
       "        vertical-align: top;\n",
       "    }\n",
       "\n",
       "    .dataframe thead th {\n",
       "        text-align: right;\n",
       "    }\n",
       "</style>\n",
       "<table border=\"1\" class=\"dataframe\">\n",
       "  <thead>\n",
       "    <tr style=\"text-align: right;\">\n",
       "      <th></th>\n",
       "      <th>Experience_Score</th>\n",
       "    </tr>\n",
       "  </thead>\n",
       "  <tbody>\n",
       "    <tr>\n",
       "      <th>0</th>\n",
       "      <td>7.200000e+16</td>\n",
       "    </tr>\n",
       "    <tr>\n",
       "      <th>1</th>\n",
       "      <td>7.200000e+16</td>\n",
       "    </tr>\n",
       "    <tr>\n",
       "      <th>2</th>\n",
       "      <td>7.200000e+16</td>\n",
       "    </tr>\n",
       "    <tr>\n",
       "      <th>3</th>\n",
       "      <td>7.200000e+16</td>\n",
       "    </tr>\n",
       "    <tr>\n",
       "      <th>4</th>\n",
       "      <td>5.836620e+18</td>\n",
       "    </tr>\n",
       "  </tbody>\n",
       "</table>\n",
       "</div>"
      ],
      "text/plain": [
       "   Experience_Score\n",
       "0      7.200000e+16\n",
       "1      7.200000e+16\n",
       "2      7.200000e+16\n",
       "3      7.200000e+16\n",
       "4      5.836620e+18"
      ]
     },
     "execution_count": 47,
     "metadata": {},
     "output_type": "execute_result"
    }
   ],
   "source": [
    " #read the data from google drive\n",
    "exp =pd.read_csv(\"experience_Score.csv\")\n",
    "exp.head()"
   ]
  },
  {
   "cell_type": "markdown",
   "metadata": {
    "id": "UcO2zuvIhYLB"
   },
   "source": []
  },
  {
   "cell_type": "code",
   "execution_count": 48,
   "metadata": {
    "colab": {
     "base_uri": "https://localhost:8080/",
     "height": 256
    },
    "executionInfo": {
     "elapsed": 4213,
     "status": "ok",
     "timestamp": 1725965159921,
     "user": {
      "displayName": "foody kids",
      "userId": "08117609502954182600"
     },
     "user_tz": -330
    },
    "id": "BHUNbXbj0smF",
    "outputId": "8d2c7dd8-bf92-4624-897c-260b9d661c79"
   },
   "outputs": [
    {
     "data": {
      "text/html": [
       "<div>\n",
       "<style scoped>\n",
       "    .dataframe tbody tr th:only-of-type {\n",
       "        vertical-align: middle;\n",
       "    }\n",
       "\n",
       "    .dataframe tbody tr th {\n",
       "        vertical-align: top;\n",
       "    }\n",
       "\n",
       "    .dataframe thead th {\n",
       "        text-align: right;\n",
       "    }\n",
       "</style>\n",
       "<table border=\"1\" class=\"dataframe\">\n",
       "  <thead>\n",
       "    <tr style=\"text-align: right;\">\n",
       "      <th></th>\n",
       "      <th>BearerId</th>\n",
       "      <th>MSISDNNumber</th>\n",
       "      <th>Duration_Seconds</th>\n",
       "      <th>AvgRTT_DL</th>\n",
       "      <th>AvgRTT_UL</th>\n",
       "      <th>AvgBearerTP_DL</th>\n",
       "      <th>AvgBearerTP_UL</th>\n",
       "      <th>TCPDLRetransVol_Bytes</th>\n",
       "      <th>TCPULRetransVol_Bytes</th>\n",
       "      <th>GamingDL_Bytes</th>\n",
       "      <th>...</th>\n",
       "      <th>Total_DL</th>\n",
       "      <th>Total_UL</th>\n",
       "      <th>NetflixDL_Bytes</th>\n",
       "      <th>OtherUL_Bytes</th>\n",
       "      <th>OtherDL_Bytes</th>\n",
       "      <th>GamingUL_Bytes</th>\n",
       "      <th>session_frequency</th>\n",
       "      <th>engagement_score</th>\n",
       "      <th>Experience_Score</th>\n",
       "      <th>Satisfaction_Score</th>\n",
       "    </tr>\n",
       "  </thead>\n",
       "  <tbody>\n",
       "    <tr>\n",
       "      <th>0</th>\n",
       "      <td>1.311450e+19</td>\n",
       "      <td>3.368542e+10</td>\n",
       "      <td>243.504</td>\n",
       "      <td>45.0</td>\n",
       "      <td>5.0</td>\n",
       "      <td>28.0</td>\n",
       "      <td>41.0</td>\n",
       "      <td>568730.0</td>\n",
       "      <td>20949.5</td>\n",
       "      <td>519620584.0</td>\n",
       "      <td>...</td>\n",
       "      <td>556406594.0</td>\n",
       "      <td>43336429.0</td>\n",
       "      <td>7682779.0</td>\n",
       "      <td>3820483.0</td>\n",
       "      <td>318297673.0</td>\n",
       "      <td>2710989.0</td>\n",
       "      <td>1.0</td>\n",
       "      <td>5.997430e+08</td>\n",
       "      <td>7.200000e+16</td>\n",
       "      <td>3.600000e+16</td>\n",
       "    </tr>\n",
       "    <tr>\n",
       "      <th>1</th>\n",
       "      <td>1.311450e+19</td>\n",
       "      <td>3.366132e+10</td>\n",
       "      <td>236.570</td>\n",
       "      <td>46.0</td>\n",
       "      <td>7.0</td>\n",
       "      <td>46.0</td>\n",
       "      <td>46.0</td>\n",
       "      <td>568730.0</td>\n",
       "      <td>20949.5</td>\n",
       "      <td>715350506.0</td>\n",
       "      <td>...</td>\n",
       "      <td>757526492.0</td>\n",
       "      <td>40719212.0</td>\n",
       "      <td>11758420.0</td>\n",
       "      <td>1716480.0</td>\n",
       "      <td>290582586.0</td>\n",
       "      <td>10250922.0</td>\n",
       "      <td>1.0</td>\n",
       "      <td>7.982457e+08</td>\n",
       "      <td>7.200000e+16</td>\n",
       "      <td>3.600000e+16</td>\n",
       "    </tr>\n",
       "    <tr>\n",
       "      <th>2</th>\n",
       "      <td>1.311450e+19</td>\n",
       "      <td>3.361513e+10</td>\n",
       "      <td>231.780</td>\n",
       "      <td>45.0</td>\n",
       "      <td>5.0</td>\n",
       "      <td>23.0</td>\n",
       "      <td>51.0</td>\n",
       "      <td>568730.0</td>\n",
       "      <td>20949.5</td>\n",
       "      <td>124180544.0</td>\n",
       "      <td>...</td>\n",
       "      <td>139043208.0</td>\n",
       "      <td>53052136.0</td>\n",
       "      <td>753238.0</td>\n",
       "      <td>14932623.0</td>\n",
       "      <td>350039548.0</td>\n",
       "      <td>14967821.0</td>\n",
       "      <td>1.0</td>\n",
       "      <td>1.920953e+08</td>\n",
       "      <td>7.200000e+16</td>\n",
       "      <td>3.600000e+16</td>\n",
       "    </tr>\n",
       "    <tr>\n",
       "      <th>3</th>\n",
       "      <td>1.311450e+19</td>\n",
       "      <td>3.366495e+10</td>\n",
       "      <td>230.839</td>\n",
       "      <td>39.0</td>\n",
       "      <td>2.0</td>\n",
       "      <td>22.0</td>\n",
       "      <td>46.0</td>\n",
       "      <td>568730.0</td>\n",
       "      <td>20949.5</td>\n",
       "      <td>293492651.0</td>\n",
       "      <td>...</td>\n",
       "      <td>329159454.0</td>\n",
       "      <td>30713366.0</td>\n",
       "      <td>17917894.0</td>\n",
       "      <td>11684759.0</td>\n",
       "      <td>495376623.0</td>\n",
       "      <td>1362536.0</td>\n",
       "      <td>1.0</td>\n",
       "      <td>3.598728e+08</td>\n",
       "      <td>7.200000e+16</td>\n",
       "      <td>3.600000e+16</td>\n",
       "    </tr>\n",
       "    <tr>\n",
       "      <th>4</th>\n",
       "      <td>7.349880e+18</td>\n",
       "      <td>3.366403e+10</td>\n",
       "      <td>238.915</td>\n",
       "      <td>38.0</td>\n",
       "      <td>1.0</td>\n",
       "      <td>49.0</td>\n",
       "      <td>47.0</td>\n",
       "      <td>568730.0</td>\n",
       "      <td>20949.5</td>\n",
       "      <td>516508263.0</td>\n",
       "      <td>...</td>\n",
       "      <td>546747900.0</td>\n",
       "      <td>57680454.0</td>\n",
       "      <td>1114842.0</td>\n",
       "      <td>9207067.0</td>\n",
       "      <td>624397048.0</td>\n",
       "      <td>8432981.0</td>\n",
       "      <td>1.0</td>\n",
       "      <td>6.044284e+08</td>\n",
       "      <td>5.836620e+18</td>\n",
       "      <td>2.918310e+18</td>\n",
       "    </tr>\n",
       "  </tbody>\n",
       "</table>\n",
       "<p>5 rows × 24 columns</p>\n",
       "</div>"
      ],
      "text/plain": [
       "       BearerId  MSISDNNumber  Duration_Seconds  AvgRTT_DL  AvgRTT_UL  \\\n",
       "0  1.311450e+19  3.368542e+10           243.504       45.0        5.0   \n",
       "1  1.311450e+19  3.366132e+10           236.570       46.0        7.0   \n",
       "2  1.311450e+19  3.361513e+10           231.780       45.0        5.0   \n",
       "3  1.311450e+19  3.366495e+10           230.839       39.0        2.0   \n",
       "4  7.349880e+18  3.366403e+10           238.915       38.0        1.0   \n",
       "\n",
       "   AvgBearerTP_DL  AvgBearerTP_UL  TCPDLRetransVol_Bytes  \\\n",
       "0            28.0            41.0               568730.0   \n",
       "1            46.0            46.0               568730.0   \n",
       "2            23.0            51.0               568730.0   \n",
       "3            22.0            46.0               568730.0   \n",
       "4            49.0            47.0               568730.0   \n",
       "\n",
       "   TCPULRetransVol_Bytes  GamingDL_Bytes  ...     Total_DL    Total_UL  \\\n",
       "0                20949.5     519620584.0  ...  556406594.0  43336429.0   \n",
       "1                20949.5     715350506.0  ...  757526492.0  40719212.0   \n",
       "2                20949.5     124180544.0  ...  139043208.0  53052136.0   \n",
       "3                20949.5     293492651.0  ...  329159454.0  30713366.0   \n",
       "4                20949.5     516508263.0  ...  546747900.0  57680454.0   \n",
       "\n",
       "   NetflixDL_Bytes  OtherUL_Bytes  OtherDL_Bytes  GamingUL_Bytes  \\\n",
       "0        7682779.0      3820483.0    318297673.0       2710989.0   \n",
       "1       11758420.0      1716480.0    290582586.0      10250922.0   \n",
       "2         753238.0     14932623.0    350039548.0      14967821.0   \n",
       "3       17917894.0     11684759.0    495376623.0       1362536.0   \n",
       "4        1114842.0      9207067.0    624397048.0       8432981.0   \n",
       "\n",
       "   session_frequency  engagement_score  Experience_Score  Satisfaction_Score  \n",
       "0                1.0      5.997430e+08      7.200000e+16        3.600000e+16  \n",
       "1                1.0      7.982457e+08      7.200000e+16        3.600000e+16  \n",
       "2                1.0      1.920953e+08      7.200000e+16        3.600000e+16  \n",
       "3                1.0      3.598728e+08      7.200000e+16        3.600000e+16  \n",
       "4                1.0      6.044284e+08      5.836620e+18        2.918310e+18  \n",
       "\n",
       "[5 rows x 24 columns]"
      ]
     },
     "execution_count": 48,
     "metadata": {},
     "output_type": "execute_result"
    }
   ],
   "source": [
    "#maindata dataframe to csv\n",
    "engagement_scores.to_csv('telecomdata.csv', index=False)\n",
    "engagement_scores.head()"
   ]
  },
  {
   "cell_type": "markdown",
   "metadata": {
    "id": "hL4nP6zBrE4r"
   },
   "source": [
    "##Build a regression model"
   ]
  },
  {
   "cell_type": "code",
   "execution_count": 49,
   "metadata": {
    "executionInfo": {
     "elapsed": 788,
     "status": "ok",
     "timestamp": 1725965160703,
     "user": {
      "displayName": "foody kids",
      "userId": "08117609502954182600"
     },
     "user_tz": -330
    },
    "id": "j-9np8I8Cxb_"
   },
   "outputs": [],
   "source": [
    "from sklearn.model_selection import train_test_split\n",
    "from sklearn.linear_model import Ridge\n",
    "from sklearn.tree import DecisionTreeRegressor\n",
    "from sklearn.ensemble import RandomForestRegressor\n",
    "from sklearn.ensemble import GradientBoostingRegressor\n",
    "from sklearn.metrics import mean_squared_error, r2_score, mean_absolute_error\n",
    "from sklearn.model_selection import cross_val_score"
   ]
  },
  {
   "cell_type": "markdown",
   "metadata": {
    "id": "q6v6gN3ICko5"
   },
   "source": [
    "#### Define features (X) and target (y)"
   ]
  },
  {
   "cell_type": "code",
   "execution_count": null,
   "metadata": {
    "executionInfo": {
     "elapsed": 18,
     "status": "ok",
     "timestamp": 1725965160704,
     "user": {
      "displayName": "foody kids",
      "userId": "08117609502954182600"
     },
     "user_tz": -330
    },
    "id": "s_Fq_rRdCwyX"
   },
   "outputs": [],
   "source": []
  },
  {
   "cell_type": "code",
   "execution_count": 50,
   "metadata": {
    "executionInfo": {
     "elapsed": 16,
     "status": "ok",
     "timestamp": 1725965160704,
     "user": {
      "displayName": "foody kids",
      "userId": "08117609502954182600"
     },
     "user_tz": -330
    },
    "id": "tEQqU8lMrI0q"
   },
   "outputs": [],
   "source": [
    "X = engagement_scores.drop([\"Satisfaction_Score\"], axis =1 )\n",
    "y = engagement_scores[\"Satisfaction_Score\"]"
   ]
  },
  {
   "cell_type": "markdown",
   "metadata": {
    "id": "_WLsHSvSCmlI"
   },
   "source": [
    "#### Split the data into training and testing sets"
   ]
  },
  {
   "cell_type": "code",
   "execution_count": 51,
   "metadata": {
    "executionInfo": {
     "elapsed": 15,
     "status": "ok",
     "timestamp": 1725965160704,
     "user": {
      "displayName": "foody kids",
      "userId": "08117609502954182600"
     },
     "user_tz": -330
    },
    "id": "hBvQusNqCp8q"
   },
   "outputs": [],
   "source": [
    "X_train, X_test, y_train, y_test = train_test_split(X, y, test_size=0.2, random_state=42)\n"
   ]
  },
  {
   "cell_type": "code",
   "execution_count": 52,
   "metadata": {
    "executionInfo": {
     "elapsed": 15,
     "status": "ok",
     "timestamp": 1725965160705,
     "user": {
      "displayName": "foody kids",
      "userId": "08117609502954182600"
     },
     "user_tz": -330
    },
    "id": "t0BqlQWMR1va"
   },
   "outputs": [],
   "source": [
    "from sklearn.preprocessing import StandardScaler"
   ]
  },
  {
   "cell_type": "code",
   "execution_count": 53,
   "metadata": {
    "executionInfo": {
     "elapsed": 14,
     "status": "ok",
     "timestamp": 1725965160705,
     "user": {
      "displayName": "foody kids",
      "userId": "08117609502954182600"
     },
     "user_tz": -330
    },
    "id": "g-AALJqVR4ki"
   },
   "outputs": [],
   "source": [
    "scaler = StandardScaler()\n",
    "X_train = scaler.fit_transform(X_train)\n",
    "X_test = scaler.transform(X_test)"
   ]
  },
  {
   "cell_type": "code",
   "execution_count": 54,
   "metadata": {
    "executionInfo": {
     "elapsed": 14,
     "status": "ok",
     "timestamp": 1725965160705,
     "user": {
      "displayName": "foody kids",
      "userId": "08117609502954182600"
     },
     "user_tz": -330
    },
    "id": "6wp0SATeQrJ4"
   },
   "outputs": [],
   "source": [
    "from sklearn.model_selection import cross_val_score\n",
    "models = pd.DataFrame(columns=['Model', 'MAE', 'MSE', 'RMSE', 'R2 Score', 'RMSE (Cross-Validation) '])"
   ]
  },
  {
   "cell_type": "code",
   "execution_count": 55,
   "metadata": {
    "executionInfo": {
     "elapsed": 13,
     "status": "ok",
     "timestamp": 1725965160705,
     "user": {
      "displayName": "foody kids",
      "userId": "08117609502954182600"
     },
     "user_tz": -330
    },
    "id": "cujG1sHUQvdv"
   },
   "outputs": [],
   "source": [
    "\n",
    "# Function to calculate RMSE using cross-validation\n",
    "def rmse_cv(model):\n",
    "    rmse = np.sqrt(-cross_val_score(model, X_train, y_train, scoring='neg_mean_squared_error', cv=5)).mean()\n",
    "    return rmse\n",
    "\n",
    "# Function to evaluate the model\n",
    "def evaluation(y, y_pred):\n",
    "    mae = mean_absolute_error(y, y_pred)\n",
    "    mse = mean_squared_error(y, y_pred)\n",
    "    rmse = np.sqrt(mean_squared_error(y, y_pred))\n",
    "    r2_square = r2_score(y, y_pred)\n",
    "    return mae, mse, rmse, r2_square"
   ]
  },
  {
   "cell_type": "code",
   "execution_count": 56,
   "metadata": {
    "executionInfo": {
     "elapsed": 12,
     "status": "ok",
     "timestamp": 1725965160705,
     "user": {
      "displayName": "foody kids",
      "userId": "08117609502954182600"
     },
     "user_tz": -330
    },
    "id": "-WeRNMl8Q00C"
   },
   "outputs": [],
   "source": [
    "# Define the regressors\n",
    "Regressors = [\n",
    "    ('Ridge', Ridge()),\n",
    "    ('Decision Tree', DecisionTreeRegressor()),\n",
    "    ('Random Forest', RandomForestRegressor()),\n",
    "    ('Gradient Boosting', GradientBoostingRegressor())\n",
    "]"
   ]
  },
  {
   "cell_type": "code",
   "execution_count": 57,
   "metadata": {
    "colab": {
     "base_uri": "https://localhost:8080/"
    },
    "executionInfo": {
     "elapsed": 515652,
     "status": "ok",
     "timestamp": 1725965676346,
     "user": {
      "displayName": "foody kids",
      "userId": "08117609502954182600"
     },
     "user_tz": -330
    },
    "id": "njo_fAY_Q7pr",
    "outputId": "5fe1e01a-53a3-4ac4-ea13-1289edd00e79"
   },
   "outputs": [
    {
     "name": "stdout",
     "output_type": "stream",
     "text": [
      "Ridge Results:\n",
      "MAE: 14024587656081.93\n",
      "MSE: 254696179240862723537371136.00\n",
      "RMSE: 15959203590432.16\n",
      "R² Score: 1.00\n",
      "RMSE (CV): 20048013969503.38\n",
      "\n",
      "\n",
      "Decision Tree Results:\n",
      "MAE: 105015395.07\n",
      "MSE: 14842508633564920.00\n",
      "RMSE: 121829834.74\n",
      "R² Score: 1.00\n",
      "RMSE (CV): 281414142235096.00\n",
      "\n",
      "\n",
      "Random Forest Results:\n",
      "MAE: 1098999112222.87\n",
      "MSE: 11561203980002710295681171456.00\n",
      "RMSE: 107523039298574.09\n",
      "R² Score: 1.00\n",
      "RMSE (CV): 233638079349763.00\n",
      "\n",
      "\n",
      "Gradient Boosting Results:\n",
      "MAE: 38198984525911.70\n",
      "MSE: 1462493211514189128916795392.00\n",
      "RMSE: 38242557596402.84\n",
      "R² Score: 1.00\n",
      "RMSE (CV): 248535968029562.59\n",
      "\n",
      "\n",
      "Combined Results:\n",
      "             Actual  Ridge Predictions  Decision Tree Predictions  \\\n",
      "43991  3.600000e+16       3.601257e+16               3.600000e+16   \n",
      "64302  2.918310e+18       2.918305e+18               2.918310e+18   \n",
      "17298  3.600000e+16       3.602036e+16               3.600000e+16   \n",
      "47875  3.600000e+16       3.601336e+16               3.600000e+16   \n",
      "51077  3.600000e+16       3.601032e+16               3.600000e+16   \n",
      "...             ...                ...                        ...   \n",
      "29359  3.600000e+16       3.602237e+16               3.600000e+16   \n",
      "17897  2.918310e+18       2.918293e+18               2.918310e+18   \n",
      "7250   3.600000e+16       3.601163e+16               3.600000e+16   \n",
      "8608   2.918310e+18       2.918288e+18               2.918310e+18   \n",
      "65432  3.600000e+16       3.601735e+16               3.600000e+16   \n",
      "\n",
      "       Random Forest Predictions  Gradient Boosting Predictions  \n",
      "43991               3.600000e+16                   3.604013e+16  \n",
      "64302               2.918310e+18                   2.918274e+18  \n",
      "17298               3.600000e+16                   3.604013e+16  \n",
      "47875               3.600000e+16                   3.604013e+16  \n",
      "51077               3.600000e+16                   3.604013e+16  \n",
      "...                          ...                            ...  \n",
      "29359               3.600000e+16                   3.604013e+16  \n",
      "17897               2.918310e+18                   2.918274e+18  \n",
      "7250                3.600000e+16                   3.604013e+16  \n",
      "8608                2.918310e+18                   2.918274e+18  \n",
      "65432               3.600000e+16                   3.604013e+16  \n",
      "\n",
      "[13115 rows x 5 columns]\n"
     ]
    }
   ],
   "source": [
    "\n",
    "# DataFrame to store all results\n",
    "all_results = pd.DataFrame({\"Actual\": y_test})\n",
    "\n",
    "# DataFrame to store evaluation metrics\n",
    "metrics_results = []\n",
    "\n",
    "# Dictionary to store RMSE (CV) results\n",
    "rmse_cv_results = {}\n",
    "\n",
    "# Iterate through each regressor, fit the model, make predictions, and evaluate\n",
    "for name, model in Regressors:\n",
    "    model.fit(X_train, y_train)\n",
    "    y_pred = model.predict(X_test)\n",
    "\n",
    "    # Add predictions to the DataFrame\n",
    "    all_results[name + ' Predictions'] = y_pred\n",
    "\n",
    "\n",
    "        # Evaluate the model\n",
    "    # Evaluate the model\n",
    "    mae, mse, rmse, r2_square = evaluation(y_test, y_pred)\n",
    "    rmse_cv_val = rmse_cv(model)\n",
    "    rmse_cv_results[name] = rmse_cv_val\n",
    "\n",
    "    print(f\"{name} Results:\")\n",
    "    print(f\"MAE: {mae:.2f}\")\n",
    "    print(f\"MSE: {mse:.2f}\")\n",
    "    print(f\"RMSE: {rmse:.2f}\")\n",
    "    print(f\"R² Score: {r2_square:.2f}\")\n",
    "    print(f\"RMSE (CV): {rmse_cv_val:.2f}\")\n",
    "    print(\"\\n\")\n",
    "\n",
    "print(\"Combined Results:\")\n",
    "print(all_results)"
   ]
  },
  {
   "cell_type": "code",
   "execution_count": 58,
   "metadata": {
    "colab": {
     "base_uri": "https://localhost:8080/",
     "height": 581
    },
    "executionInfo": {
     "elapsed": 24,
     "status": "ok",
     "timestamp": 1725965676347,
     "user": {
      "displayName": "foody kids",
      "userId": "08117609502954182600"
     },
     "user_tz": -330
    },
    "id": "55D7XxacauK8",
    "outputId": "8a987669-ed58-425f-94a4-ccf6e6011eb5"
   },
   "outputs": [
    {
     "data": {
      "text/plain": [
       "Text(0.5, 1.0, 'RMSE of Models using Cross-Validation')"
      ]
     },
     "execution_count": 58,
     "metadata": {},
     "output_type": "execute_result"
    }
   ],
   "source": [
    "# Plot RMSE (CV) results\n",
    "models = list(rmse_cv_results.keys())\n",
    "rmse_values = list(rmse_cv_results.values())\n",
    "\n",
    "plt.figure(figsize=(10, 6))\n",
    "plt.bar(models, rmse_values, color='skyblue')\n",
    "plt.xlabel('Model')\n",
    "plt.ylabel('RMSE (Cross-Validation)')\n",
    "plt.title('RMSE of Models using Cross-Validation')"
   ]
  },
  {
   "cell_type": "markdown",
   "metadata": {
    "id": "u3YwpJDFn-jc"
   },
   "source": [
    "###Given the results, Random Forest seems to be the best model among the four options. Although all models show signs of overfitting with perfect R² scores and high error metrics, Random Forest has the lowest RMSE (CV), suggesting it generalizes slightly better on unseen data compared to the other models."
   ]
  },
  {
   "cell_type": "markdown",
   "metadata": {
    "id": "H_5L8SZPoR1T"
   },
   "source": [
    "##Run a k-means (k=2) on the engagement & the experience score.\n",
    "\n",
    "---\n",
    "\n"
   ]
  },
  {
   "cell_type": "code",
   "execution_count": 59,
   "metadata": {
    "executionInfo": {
     "elapsed": 458,
     "status": "ok",
     "timestamp": 1725965676789,
     "user": {
      "displayName": "foody kids",
      "userId": "08117609502954182600"
     },
     "user_tz": -330
    },
    "id": "qA-wAeoEoXgC"
   },
   "outputs": [],
   "source": [
    "from sklearn.cluster import KMeans\n",
    "from sklearn.preprocessing import StandardScaler\n",
    "from sklearn.decomposition import PCA"
   ]
  },
  {
   "cell_type": "code",
   "execution_count": 60,
   "metadata": {
    "colab": {
     "base_uri": "https://localhost:8080/",
     "height": 472
    },
    "executionInfo": {
     "elapsed": 2787,
     "status": "ok",
     "timestamp": 1725965679571,
     "user": {
      "displayName": "foody kids",
      "userId": "08117609502954182600"
     },
     "user_tz": -330
    },
    "id": "EOyXFodGoIUk",
    "outputId": "54e164e4-fc06-4fc4-eb7c-53e65d6c8403"
   },
   "outputs": [
    {
     "name": "stderr",
     "output_type": "stream",
     "text": [
      "  File \"c:\\Users\\dewan\\anaconda3\\Lib\\site-packages\\joblib\\externals\\loky\\backend\\context.py\", line 257, in _count_physical_cores\n",
      "    cpu_info = subprocess.run(\n",
      "               ^^^^^^^^^^^^^^^\n",
      "  File \"c:\\Users\\dewan\\anaconda3\\Lib\\subprocess.py\", line 548, in run\n",
      "    with Popen(*popenargs, **kwargs) as process:\n",
      "         ^^^^^^^^^^^^^^^^^^^^^^^^^^^\n",
      "  File \"c:\\Users\\dewan\\anaconda3\\Lib\\subprocess.py\", line 1026, in __init__\n",
      "    self._execute_child(args, executable, preexec_fn, close_fds,\n",
      "  File \"c:\\Users\\dewan\\anaconda3\\Lib\\subprocess.py\", line 1538, in _execute_child\n",
      "    hp, ht, pid, tid = _winapi.CreateProcess(executable, args,\n",
      "                       ^^^^^^^^^^^^^^^^^^^^^^^^^^^^^^^^^^^^^^^\n"
     ]
    },
    {
     "data": {
      "image/png": "[encoded data removed]",
      "text/plain": [
       "<Figure size 1000x600 with 1 Axes>"
      ]
     },
     "metadata": {},
     "output_type": "display_data"
    }
   ],
   "source": [
    "# Selecting the relevant columns\n",
    "scluster = engagement_scores[['engagement_score', 'Experience_Score']]\n",
    "\n",
    "# Step 1: Scale the data\n",
    "scaler = StandardScaler()\n",
    "X_scaled = scaler.fit_transform(X)\n",
    "\n",
    "# Step 2: Run k-means with k=2 on the scaled data\n",
    "kmeans = KMeans(n_clusters=2, random_state=0)\n",
    "engagement_scores['Cluster'] = kmeans.fit_predict(X_scaled)\n",
    "\n",
    "# Step 3: Plot the clusters\n",
    "plt.scatter(X_scaled[:, 0], X_scaled[:, 1], c=engagement_scores['Cluster'], cmap='viridis', marker='o')\n",
    "plt.scatter(kmeans.cluster_centers_[:, 0], kmeans.cluster_centers_[:, 1], s=300, c='red', marker='x')  # cluster centers\n",
    "plt.xlabel('Engagement Score (scaled)')\n",
    "plt.ylabel('Experience Score (scaled)')\n",
    "plt.title('K-Means Clustering (k=2) After Scaling')\n",
    "plt.show()"
   ]
  },
  {
   "cell_type": "code",
   "execution_count": 61,
   "metadata": {
    "colab": {
     "base_uri": "https://localhost:8080/",
     "height": 472
    },
    "executionInfo": {
     "elapsed": 2478,
     "status": "ok",
     "timestamp": 1725965682040,
     "user": {
      "displayName": "foody kids",
      "userId": "08117609502954182600"
     },
     "user_tz": -330
    },
    "id": "N3U4c_dV4V_1",
    "outputId": "61401512-1079-40de-b7bc-35d65bd3c7b0"
   },
   "outputs": [
    {
     "data": {
      "image/png": "[encoded data removed]",
      "text/plain": [
       "<Figure size 640x480 with 1 Axes>"
      ]
     },
     "metadata": {},
     "output_type": "display_data"
    }
   ],
   "source": [
    "from sklearn.preprocessing import MinMaxScaler\n",
    "\n",
    "# Selecting the relevant columns\n",
    "scluster = engagement_scores[['engagement_score', 'Experience_Score']]\n",
    "\n",
    "# Scaling the features using MinMaxScaler\n",
    "scaler = MinMaxScaler()\n",
    "X_scaled = scaler.fit_transform(X)\n",
    "\n",
    "# Step 2: Apply PCA (optional)\n",
    "pca = PCA(n_components=2)  # Since we have only two features, n_components=2\n",
    "X_pca = pca.fit_transform(X_scaled)\n",
    "\n",
    "# Step 3: Run k-means with k=2 on the PCA-transformed data\n",
    "kmeans = KMeans(n_clusters=2, random_state=0)\n",
    "engagement_scores['Cluster'] = kmeans.fit_predict(X_pca)\n",
    "\n",
    "\n",
    "# Step 4: Plot the clusters\n",
    "plt.scatter(X_pca[:, 0], X_pca[:, 1], c=engagement_scores['Cluster'], cmap='viridis', marker='o')\n",
    "plt.scatter(kmeans.cluster_centers_[:, 0], kmeans.cluster_centers_[:, 1], s=300, c='red', marker='x')  # cluster centers\n",
    "plt.xlabel('PCA Component 1')\n",
    "plt.ylabel('PCA Component 2')\n",
    "plt.title('2D K-Means Clustering (k=2) After PCA')\n",
    "plt.show()"
   ]
  },
  {
   "cell_type": "markdown",
   "metadata": {
    "id": "TrnZdhOXInnv"
   },
   "source": [
    "\n",
    "\n",
    "1.   Cluster 1 (Purple): If these users have lower engagement and experience scores, they might be at risk of churn or may require targeted interventions to improve their experience and increase their engagement.\n",
    "\n",
    "2.   Cluster 2 (Yellow): These users are likely satisfied and engaged, representing a more loyal user base. Efforts to maintain or further enhance their experience could help retain this segment.\n"
   ]
  },
  {
   "cell_type": "code",
   "execution_count": 62,
   "metadata": {
    "colab": {
     "base_uri": "https://localhost:8080/",
     "height": 143
    },
    "executionInfo": {
     "elapsed": 60,
     "status": "ok",
     "timestamp": 1725965682041,
     "user": {
      "displayName": "foody kids",
      "userId": "08117609502954182600"
     },
     "user_tz": -330
    },
    "id": "Fgt_bPoT6KLp",
    "outputId": "f69fa269-e099-4c6d-9ca8-34a2afa14b14"
   },
   "outputs": [
    {
     "data": {
      "text/html": [
       "<div>\n",
       "<style scoped>\n",
       "    .dataframe tbody tr th:only-of-type {\n",
       "        vertical-align: middle;\n",
       "    }\n",
       "\n",
       "    .dataframe tbody tr th {\n",
       "        vertical-align: top;\n",
       "    }\n",
       "\n",
       "    .dataframe thead th {\n",
       "        text-align: right;\n",
       "    }\n",
       "</style>\n",
       "<table border=\"1\" class=\"dataframe\">\n",
       "  <thead>\n",
       "    <tr style=\"text-align: right;\">\n",
       "      <th></th>\n",
       "      <th>Satisfaction_Score</th>\n",
       "      <th>Experience_Score</th>\n",
       "    </tr>\n",
       "    <tr>\n",
       "      <th>Cluster</th>\n",
       "      <th></th>\n",
       "      <th></th>\n",
       "    </tr>\n",
       "  </thead>\n",
       "  <tbody>\n",
       "    <tr>\n",
       "      <th>0</th>\n",
       "      <td>2.921651e+18</td>\n",
       "      <td>5.843301e+18</td>\n",
       "    </tr>\n",
       "    <tr>\n",
       "      <th>1</th>\n",
       "      <td>3.815625e+16</td>\n",
       "      <td>7.631250e+16</td>\n",
       "    </tr>\n",
       "  </tbody>\n",
       "</table>\n",
       "</div>"
      ],
      "text/plain": [
       "         Satisfaction_Score  Experience_Score\n",
       "Cluster                                      \n",
       "0              2.921651e+18      5.843301e+18\n",
       "1              3.815625e+16      7.631250e+16"
      ]
     },
     "execution_count": 62,
     "metadata": {},
     "output_type": "execute_result"
    }
   ],
   "source": [
    "# Aggregating the average satisfaction & experience score per cluster\n",
    "average_scores = engagement_scores.groupby('Cluster')[['Satisfaction_Score', 'Experience_Score']].mean()\n",
    "\n",
    "average_scores"
   ]
  },
  {
   "cell_type": "markdown",
   "metadata": {
    "id": "Qs5KfFcq6snG"
   },
   "source": [
    "\n",
    "\n",
    "1.   Cluster 0 appears to be associated with users who are both highly satisfied and have a high experience score.\n",
    "\n",
    "2.  Cluster 1 might represent users who are relatively satisfied but have a much lower experience score.\n",
    "\n"
   ]
  },
  {
   "cell_type": "code",
   "execution_count": 63,
   "metadata": {
    "colab": {
     "base_uri": "https://localhost:8080/"
    },
    "executionInfo": {
     "elapsed": 455,
     "status": "ok",
     "timestamp": 1725965802100,
     "user": {
      "displayName": "foody kids",
      "userId": "08117609502954182600"
     },
     "user_tz": -330
    },
    "id": "ePjGDEq5kxBi",
    "outputId": "e6ab6cb7-bf27-491b-ff6e-09d17e58cf70"
   },
   "outputs": [
    {
     "data": {
      "text/plain": [
       "array([3.60401349e+16, 2.91827357e+18, 3.60401349e+16, ...,\n",
       "       3.60401349e+16, 2.91827357e+18, 3.60401349e+16])"
      ]
     },
     "execution_count": 63,
     "metadata": {},
     "output_type": "execute_result"
    }
   ],
   "source": [
    "import pickle\n",
    "\n",
    "# Save the trained model as a pickle string.\n",
    "saved_model = pickle.dumps(model)\n",
    "\n",
    "# Load the pickled model\n",
    "model_from_pickle = pickle.loads(saved_model)\n",
    "\n",
    "# Use the loaded pickled model to make predictions\n",
    "model_from_pickle.predict(X_test)"
   ]
  },
  {
   "cell_type": "markdown",
   "metadata": {
    "id": "xrZFyL_5KYld"
   },
   "source": []
  },
  {
   "cell_type": "code",
   "execution_count": 64,
   "metadata": {
    "colab": {
     "base_uri": "https://localhost:8080/"
    },
    "executionInfo": {
     "elapsed": 438,
     "status": "ok",
     "timestamp": 1725965895526,
     "user": {
      "displayName": "foody kids",
      "userId": "08117609502954182600"
     },
     "user_tz": -330
    },
    "id": "VI4lED3tlH7w",
    "outputId": "3242eca0-9e96-44d9-bccc-1538349f96ce"
   },
   "outputs": [
    {
     "data": {
      "text/plain": [
       "array([3.60401349e+16, 2.91827357e+18, 3.60401349e+16, ...,\n",
       "       3.60401349e+16, 2.91827357e+18, 3.60401349e+16])"
      ]
     },
     "execution_count": 64,
     "metadata": {},
     "output_type": "execute_result"
    }
   ],
   "source": [
    "from joblib import Parallel, delayed\n",
    "import joblib\n",
    "\n",
    "\n",
    "# Save the model as a pickle in a file\n",
    "joblib.dump(model, 'model.pkl')\n",
    "\n",
    "# Load the model from the file\n",
    "model_from_joblib = joblib.load('model.pkl')\n",
    "\n",
    "# Use the loaded model to make predictions\n",
    "model_from_joblib.predict(X_test)"
   ]
  }
 ],
 "metadata": {
  "colab": {
   "authorship_tag": "ABX9TyNPfmRgztbnoFNuTQcQKwu+",
   "provenance": []
  },
  "kernelspec": {
   "display_name": "base",
   "language": "python",
   "name": "python3"
  },
  "language_info": {
   "codemirror_mode": {
    "name": "ipython",
    "version": 3
   },
   "file_extension": ".py",
   "mimetype": "text/x-python",
   "name": "python",
   "nbconvert_exporter": "python",
   "pygments_lexer": "ipython3",
   "version": "3.12.3"
  }
 },
 "nbformat": 4,
 "nbformat_minor": 0
}
